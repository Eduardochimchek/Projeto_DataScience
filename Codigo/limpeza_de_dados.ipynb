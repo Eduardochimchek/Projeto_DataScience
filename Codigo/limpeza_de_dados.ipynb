{
 "cells": [
  {
   "cell_type": "markdown",
   "metadata": {},
   "source": [
    "# DataScience - Projeto ADA\n",
    "\n",
    "#### Integrantes\n",
    "- Eduardo Chimchek Jeronimo\n",
    "- Gabriel Rosso\n",
    "- João Augusto da silva borges\n",
    "- Josiane Rodrigues"
   ]
  },
  {
   "cell_type": "markdown",
   "metadata": {},
   "source": [
    "### Limpeza dos dados"
   ]
  },
  {
   "cell_type": "code",
   "execution_count": 127,
   "metadata": {},
   "outputs": [],
   "source": [
    "#!pip install pandas\n",
    "#!pip install numpy\n",
    "\n",
    "import pandas as pd\n",
    "import numpy as np"
   ]
  },
  {
   "cell_type": "code",
   "execution_count": 128,
   "metadata": {},
   "outputs": [],
   "source": [
    "dadosAllFields  = pd.read_csv('../data/issues_all_fields.csv')\n",
    "dadosUnidos = pd.read_csv('../data/issues_main_fields.csv')\n",
    "dadosParents    = pd.read_csv('../data/parents.csv')\n",
    "\n",
    "dadosUnidos = pd.merge(dadosUnidos, dadosAllFields, how = 'inner', on = 'Key')\n",
    "\n",
    "##dadosUnidos\n",
    "\n",
    "\n",
    "#dadosAllFields\n",
    "#dadosMainFields\n",
    "#dadosParents"
   ]
  },
  {
   "cell_type": "markdown",
   "metadata": {},
   "source": [
    "## Comprovando que o x e y são mesmos valores"
   ]
  },
  {
   "cell_type": "code",
   "execution_count": 129,
   "metadata": {},
   "outputs": [
    {
     "data": {
      "text/html": [
       "<div>\n",
       "<style scoped>\n",
       "    .dataframe tbody tr th:only-of-type {\n",
       "        vertical-align: middle;\n",
       "    }\n",
       "\n",
       "    .dataframe tbody tr th {\n",
       "        vertical-align: top;\n",
       "    }\n",
       "\n",
       "    .dataframe thead th {\n",
       "        text-align: right;\n",
       "    }\n",
       "</style>\n",
       "<table border=\"1\" class=\"dataframe\">\n",
       "  <thead>\n",
       "    <tr style=\"text-align: right;\">\n",
       "      <th></th>\n",
       "      <th>Designer_x</th>\n",
       "      <th>Designer_y</th>\n",
       "    </tr>\n",
       "  </thead>\n",
       "  <tbody>\n",
       "    <tr>\n",
       "      <th>0</th>\n",
       "      <td>NaN</td>\n",
       "      <td>NaN</td>\n",
       "    </tr>\n",
       "    <tr>\n",
       "      <th>1</th>\n",
       "      <td>NaN</td>\n",
       "      <td>NaN</td>\n",
       "    </tr>\n",
       "    <tr>\n",
       "      <th>2</th>\n",
       "      <td>NaN</td>\n",
       "      <td>NaN</td>\n",
       "    </tr>\n",
       "    <tr>\n",
       "      <th>3</th>\n",
       "      <td>NaN</td>\n",
       "      <td>NaN</td>\n",
       "    </tr>\n",
       "    <tr>\n",
       "      <th>4</th>\n",
       "      <td>NaN</td>\n",
       "      <td>NaN</td>\n",
       "    </tr>\n",
       "    <tr>\n",
       "      <th>...</th>\n",
       "      <td>...</td>\n",
       "      <td>...</td>\n",
       "    </tr>\n",
       "    <tr>\n",
       "      <th>2174</th>\n",
       "      <td>Gabrieli Souza</td>\n",
       "      <td>Gabrieli Souza</td>\n",
       "    </tr>\n",
       "    <tr>\n",
       "      <th>2175</th>\n",
       "      <td>Gabrieli Souza</td>\n",
       "      <td>Gabrieli Souza</td>\n",
       "    </tr>\n",
       "    <tr>\n",
       "      <th>2176</th>\n",
       "      <td>Gabrieli Souza</td>\n",
       "      <td>Gabrieli Souza</td>\n",
       "    </tr>\n",
       "    <tr>\n",
       "      <th>2177</th>\n",
       "      <td>Gabrieli Souza</td>\n",
       "      <td>Gabrieli Souza</td>\n",
       "    </tr>\n",
       "    <tr>\n",
       "      <th>2178</th>\n",
       "      <td>Gabrieli Souza</td>\n",
       "      <td>Gabrieli Souza</td>\n",
       "    </tr>\n",
       "  </tbody>\n",
       "</table>\n",
       "<p>2179 rows × 2 columns</p>\n",
       "</div>"
      ],
      "text/plain": [
       "          Designer_x      Designer_y\n",
       "0                NaN             NaN\n",
       "1                NaN             NaN\n",
       "2                NaN             NaN\n",
       "3                NaN             NaN\n",
       "4                NaN             NaN\n",
       "...              ...             ...\n",
       "2174  Gabrieli Souza  Gabrieli Souza\n",
       "2175  Gabrieli Souza  Gabrieli Souza\n",
       "2176  Gabrieli Souza  Gabrieli Souza\n",
       "2177  Gabrieli Souza  Gabrieli Souza\n",
       "2178  Gabrieli Souza  Gabrieli Souza\n",
       "\n",
       "[2179 rows x 2 columns]"
      ]
     },
     "execution_count": 129,
     "metadata": {},
     "output_type": "execute_result"
    }
   ],
   "source": [
    "dadosUnidos2 = dadosUnidos[['Designer_x','Designer_y']]\n",
    "\n",
    "\n",
    "dadosUnidos2"
   ]
  },
  {
   "cell_type": "markdown",
   "metadata": {},
   "source": [
    "## Dropando as colunas y"
   ]
  },
  {
   "cell_type": "code",
   "execution_count": 130,
   "metadata": {},
   "outputs": [],
   "source": [
    "dadosUnidos = dadosUnidos.drop(dadosUnidos.filter(regex='_y').columns, axis=1)"
   ]
  },
  {
   "cell_type": "markdown",
   "metadata": {},
   "source": [
    "### Colunas"
   ]
  },
  {
   "cell_type": "code",
   "execution_count": 131,
   "metadata": {},
   "outputs": [
    {
     "data": {
      "text/plain": [
       "Index(['Key', 'parent_x', 'Summary_x', 'Assignee_x', 'Designer_x', 'Devs_x',\n",
       "       'Issue Type_x', 'Status_x', 'Story point estimate_x', 'Created',\n",
       "       'Resolved_x', 'Creator_x', 'DesignEndTaskDate', 'DesignStartTaskDate',\n",
       "       'EndResolution', 'EndSubTaskDate', 'Epic Link', 'Epic Link.Name',\n",
       "       'Reporter', 'RequirementsEndTaskDate', 'RequirementsStartTaskDate',\n",
       "       'Start date', 'StartResolution', 'Sprint', 'StartSubTaskDate',\n",
       "       'Status Transition', 'Time tracking'],\n",
       "      dtype='object')"
      ]
     },
     "execution_count": 131,
     "metadata": {},
     "output_type": "execute_result"
    }
   ],
   "source": [
    "#dadosAllFields.columns\n",
    "#dadosMainFields.columns\n",
    "#dadosParents.columns\n",
    "\n",
    "dadosUnidos.columns"
   ]
  },
  {
   "cell_type": "markdown",
   "metadata": {},
   "source": [
    "### Formatando Nomes\n",
    "Para facilitar o entendimento do nome das colunas e do uso das mesmas ao longo do código, será feito uma formatação para remover caracteres especiais e espaçamentos além de padronizar tudo para minúscula e no formato snake_case"
   ]
  },
  {
   "cell_type": "code",
   "execution_count": 132,
   "metadata": {},
   "outputs": [],
   "source": [
    "##!pip install unidecode\n",
    "\n",
    "from unidecode import unidecode\n",
    "\n",
    "def formatColumnName(column):\n",
    "    newName = unidecode(column).lower()\n",
    "    newName = newName.replace('.', '')\n",
    "    newName = newName.replace('_x', '')\n",
    "    newName = newName.replace(' ', '_')\n",
    "    return newName\n"
   ]
  },
  {
   "cell_type": "code",
   "execution_count": 133,
   "metadata": {},
   "outputs": [
    {
     "data": {
      "text/plain": [
       "{'Key': 'key',\n",
       " 'parent_x': 'parent',\n",
       " 'Summary_x': 'summary',\n",
       " 'Assignee_x': 'assignee',\n",
       " 'Designer_x': 'designer',\n",
       " 'Devs_x': 'devs',\n",
       " 'Issue Type_x': 'issue_type',\n",
       " 'Status_x': 'status',\n",
       " 'Story point estimate_x': 'story_point_estimate',\n",
       " 'Created': 'created',\n",
       " 'Resolved_x': 'resolved',\n",
       " 'Creator_x': 'creator',\n",
       " 'DesignEndTaskDate': 'designendtaskdate',\n",
       " 'DesignStartTaskDate': 'designstarttaskdate',\n",
       " 'EndResolution': 'endresolution',\n",
       " 'EndSubTaskDate': 'endsubtaskdate',\n",
       " 'Epic Link': 'epic_link',\n",
       " 'Epic Link.Name': 'epic_linkname',\n",
       " 'Reporter': 'reporter',\n",
       " 'RequirementsEndTaskDate': 'requirementsendtaskdate',\n",
       " 'RequirementsStartTaskDate': 'requirementsstarttaskdate',\n",
       " 'Start date': 'start_date',\n",
       " 'StartResolution': 'startresolution',\n",
       " 'Sprint': 'sprint',\n",
       " 'StartSubTaskDate': 'startsubtaskdate',\n",
       " 'Status Transition': 'status_transition',\n",
       " 'Time tracking': 'time_tracking'}"
      ]
     },
     "execution_count": 133,
     "metadata": {},
     "output_type": "execute_result"
    }
   ],
   "source": [
    "newNamesDict = dict()\n",
    "\n",
    "for column in dadosUnidos.columns:\n",
    "    newNamesDict[column] = formatColumnName(column)\n",
    "\n",
    "newNamesDict"
   ]
  },
  {
   "cell_type": "code",
   "execution_count": 134,
   "metadata": {},
   "outputs": [],
   "source": [
    "dadosUnidos = dadosUnidos.rename(columns=newNamesDict)"
   ]
  },
  {
   "cell_type": "markdown",
   "metadata": {},
   "source": [
    "### Verificando Tipo de Dados\n",
    "Precisamos verificar os tipos de dados que contem em cada coluna e com essa informação fazer o tratamento dos dados de forma adequada."
   ]
  },
  {
   "cell_type": "code",
   "execution_count": 135,
   "metadata": {},
   "outputs": [
    {
     "data": {
      "text/plain": [
       "array(['25/09/2023 04:56:08', '25/09/2023 04:54:38',\n",
       "       '25/09/2023 04:52:56', ..., '10/10/2022 06:29:43',\n",
       "       '14/10/2022 06:37:11', '10/10/2022 06:29:58'], dtype=object)"
      ]
     },
     "execution_count": 135,
     "metadata": {},
     "output_type": "execute_result"
    }
   ],
   "source": [
    "dadosUnidos['created'].unique()"
   ]
  },
  {
   "cell_type": "code",
   "execution_count": 136,
   "metadata": {},
   "outputs": [
    {
     "data": {
      "text/plain": [
       "array([nan, '22/09/2023 12:47:24', '22/09/2023 12:51:56', ...,\n",
       "       '27/02/2023 03:37:15', '23/01/2023 04:31:51',\n",
       "       '23/01/2023 04:31:47'], dtype=object)"
      ]
     },
     "execution_count": 136,
     "metadata": {},
     "output_type": "execute_result"
    }
   ],
   "source": [
    "dadosUnidos['resolved'].unique()"
   ]
  },
  {
   "cell_type": "code",
   "execution_count": 149,
   "metadata": {},
   "outputs": [],
   "source": [
    "dadosUnidos = dadosUnidos[(~pd.isnull(dadosUnidos['startresolution']))]\n",
    "dadosUnidos = dadosUnidos.reset_index(drop=True)\n",
    "\n",
    "dadosUnidos = dadosUnidos[(~pd.isnull(dadosUnidos['endresolution']))]\n",
    "dadosUnidos = dadosUnidos.reset_index(drop=True)"
   ]
  },
  {
   "cell_type": "code",
   "execution_count": 148,
   "metadata": {},
   "outputs": [
    {
     "data": {
      "text/html": [
       "<div>\n",
       "<style scoped>\n",
       "    .dataframe tbody tr th:only-of-type {\n",
       "        vertical-align: middle;\n",
       "    }\n",
       "\n",
       "    .dataframe tbody tr th {\n",
       "        vertical-align: top;\n",
       "    }\n",
       "\n",
       "    .dataframe thead th {\n",
       "        text-align: right;\n",
       "    }\n",
       "</style>\n",
       "<table border=\"1\" class=\"dataframe\">\n",
       "  <thead>\n",
       "    <tr style=\"text-align: right;\">\n",
       "      <th></th>\n",
       "      <th>parent</th>\n",
       "      <th>assignee</th>\n",
       "      <th>designer</th>\n",
       "      <th>devs</th>\n",
       "      <th>issue_type</th>\n",
       "      <th>designendtaskdate</th>\n",
       "      <th>designstarttaskdate</th>\n",
       "      <th>endresolution</th>\n",
       "      <th>startresolution</th>\n",
       "      <th>sprint</th>\n",
       "    </tr>\n",
       "  </thead>\n",
       "  <tbody>\n",
       "    <tr>\n",
       "      <th>0</th>\n",
       "      <td>SA-3</td>\n",
       "      <td>Donavan Marques</td>\n",
       "      <td>Gabrieli Souza</td>\n",
       "      <td>Carlos Pasquali;Jorge Andrade</td>\n",
       "      <td>Task</td>\n",
       "      <td>13/09/2023 10:10:40</td>\n",
       "      <td>13/09/2023 10:10:33</td>\n",
       "      <td>18/09/2023 16:24:42</td>\n",
       "      <td>15/09/2023 08:34:57</td>\n",
       "      <td>Sprint 68</td>\n",
       "    </tr>\n",
       "    <tr>\n",
       "      <th>1</th>\n",
       "      <td>SA-117</td>\n",
       "      <td>Yan Fagundes</td>\n",
       "      <td>Gabrieli Souza</td>\n",
       "      <td>Carlos Pasquali;Jorge Andrade</td>\n",
       "      <td>Task</td>\n",
       "      <td>31/08/2023 13:53:25</td>\n",
       "      <td>31/08/2023 13:53:20</td>\n",
       "      <td>05/09/2023 10:10:21</td>\n",
       "      <td>31/08/2023 13:53:28</td>\n",
       "      <td>Sprint 67</td>\n",
       "    </tr>\n",
       "    <tr>\n",
       "      <th>2</th>\n",
       "      <td>SA-2</td>\n",
       "      <td>Yan Fagundes</td>\n",
       "      <td>Gabrieli Souza</td>\n",
       "      <td>Jean Carlos;Luiz Gustavo</td>\n",
       "      <td>Task</td>\n",
       "      <td>22/08/2023 15:32:48</td>\n",
       "      <td>22/08/2023 15:32:43</td>\n",
       "      <td>22/09/2023 17:04:28</td>\n",
       "      <td>13/09/2023 17:07:28</td>\n",
       "      <td>Sprint 66;Sprint 67;Sprint 68</td>\n",
       "    </tr>\n",
       "    <tr>\n",
       "      <th>3</th>\n",
       "      <td>SA-2</td>\n",
       "      <td>Yan Fagundes</td>\n",
       "      <td>Gabrieli Souza</td>\n",
       "      <td>Jean Carlos;Luiz Gustavo</td>\n",
       "      <td>Task</td>\n",
       "      <td>22/08/2023 15:25:50</td>\n",
       "      <td>22/08/2023 15:25:47</td>\n",
       "      <td>22/09/2023 17:04:30</td>\n",
       "      <td>05/09/2023 15:28:02</td>\n",
       "      <td>Sprint 66;Sprint 67;Sprint 68</td>\n",
       "    </tr>\n",
       "    <tr>\n",
       "      <th>4</th>\n",
       "      <td>SA-2</td>\n",
       "      <td>Yan Fagundes</td>\n",
       "      <td>Gabrieli Souza</td>\n",
       "      <td>Jean Carlos;Luiz Gustavo</td>\n",
       "      <td>Task</td>\n",
       "      <td>22/08/2023 09:06:09</td>\n",
       "      <td>22/08/2023 09:06:04</td>\n",
       "      <td>22/09/2023 17:03:34</td>\n",
       "      <td>13/09/2023 17:17:43</td>\n",
       "      <td>Sprint 66;Sprint 67;Sprint 68</td>\n",
       "    </tr>\n",
       "  </tbody>\n",
       "</table>\n",
       "</div>"
      ],
      "text/plain": [
       "   parent         assignee        designer                           devs   \n",
       "0    SA-3  Donavan Marques  Gabrieli Souza  Carlos Pasquali;Jorge Andrade  \\\n",
       "1  SA-117     Yan Fagundes  Gabrieli Souza  Carlos Pasquali;Jorge Andrade   \n",
       "2    SA-2     Yan Fagundes  Gabrieli Souza       Jean Carlos;Luiz Gustavo   \n",
       "3    SA-2     Yan Fagundes  Gabrieli Souza       Jean Carlos;Luiz Gustavo   \n",
       "4    SA-2     Yan Fagundes  Gabrieli Souza       Jean Carlos;Luiz Gustavo   \n",
       "\n",
       "  issue_type    designendtaskdate  designstarttaskdate        endresolution   \n",
       "0       Task  13/09/2023 10:10:40  13/09/2023 10:10:33  18/09/2023 16:24:42  \\\n",
       "1       Task  31/08/2023 13:53:25  31/08/2023 13:53:20  05/09/2023 10:10:21   \n",
       "2       Task  22/08/2023 15:32:48  22/08/2023 15:32:43  22/09/2023 17:04:28   \n",
       "3       Task  22/08/2023 15:25:50  22/08/2023 15:25:47  22/09/2023 17:04:30   \n",
       "4       Task  22/08/2023 09:06:09  22/08/2023 09:06:04  22/09/2023 17:03:34   \n",
       "\n",
       "       startresolution                         sprint  \n",
       "0  15/09/2023 08:34:57                      Sprint 68  \n",
       "1  31/08/2023 13:53:28                      Sprint 67  \n",
       "2  13/09/2023 17:07:28  Sprint 66;Sprint 67;Sprint 68  \n",
       "3  05/09/2023 15:28:02  Sprint 66;Sprint 67;Sprint 68  \n",
       "4  13/09/2023 17:17:43  Sprint 66;Sprint 67;Sprint 68  "
      ]
     },
     "execution_count": 148,
     "metadata": {},
     "output_type": "execute_result"
    }
   ],
   "source": [
    "\n",
    "dadosLimpos = dadosUnidos[['parent','assignee','designer','devs','issue_type','designendtaskdate','designstarttaskdate','endresolution','startresolution','sprint']]\n",
    "dadosLimpos.head()"
   ]
  },
  {
   "cell_type": "code",
   "execution_count": 150,
   "metadata": {},
   "outputs": [
    {
     "data": {
      "text/html": [
       "<div>\n",
       "<style scoped>\n",
       "    .dataframe tbody tr th:only-of-type {\n",
       "        vertical-align: middle;\n",
       "    }\n",
       "\n",
       "    .dataframe tbody tr th {\n",
       "        vertical-align: top;\n",
       "    }\n",
       "\n",
       "    .dataframe thead th {\n",
       "        text-align: right;\n",
       "    }\n",
       "</style>\n",
       "<table border=\"1\" class=\"dataframe\">\n",
       "  <thead>\n",
       "    <tr style=\"text-align: right;\">\n",
       "      <th></th>\n",
       "      <th>parent</th>\n",
       "      <th>assignee</th>\n",
       "      <th>designer</th>\n",
       "      <th>devs</th>\n",
       "      <th>issue_type</th>\n",
       "      <th>designendtaskdate</th>\n",
       "      <th>designstarttaskdate</th>\n",
       "      <th>endresolution</th>\n",
       "      <th>startresolution</th>\n",
       "      <th>sprint</th>\n",
       "    </tr>\n",
       "  </thead>\n",
       "  <tbody>\n",
       "    <tr>\n",
       "      <th>0</th>\n",
       "      <td>SA-3</td>\n",
       "      <td>Donavan Marques</td>\n",
       "      <td>Gabrieli Souza</td>\n",
       "      <td>Carlos Pasquali;Jorge Andrade</td>\n",
       "      <td>Task</td>\n",
       "      <td>13/09/2023 10:10:40</td>\n",
       "      <td>13/09/2023 10:10:33</td>\n",
       "      <td>18/09/2023 16:24:42</td>\n",
       "      <td>15/09/2023 08:34:57</td>\n",
       "      <td>Sprint 68</td>\n",
       "    </tr>\n",
       "    <tr>\n",
       "      <th>1</th>\n",
       "      <td>SA-117</td>\n",
       "      <td>Yan Fagundes</td>\n",
       "      <td>Gabrieli Souza</td>\n",
       "      <td>Carlos Pasquali;Jorge Andrade</td>\n",
       "      <td>Task</td>\n",
       "      <td>31/08/2023 13:53:25</td>\n",
       "      <td>31/08/2023 13:53:20</td>\n",
       "      <td>05/09/2023 10:10:21</td>\n",
       "      <td>31/08/2023 13:53:28</td>\n",
       "      <td>Sprint 67</td>\n",
       "    </tr>\n",
       "    <tr>\n",
       "      <th>2</th>\n",
       "      <td>SA-2</td>\n",
       "      <td>Yan Fagundes</td>\n",
       "      <td>Gabrieli Souza</td>\n",
       "      <td>Jean Carlos;Luiz Gustavo</td>\n",
       "      <td>Task</td>\n",
       "      <td>22/08/2023 15:32:48</td>\n",
       "      <td>22/08/2023 15:32:43</td>\n",
       "      <td>22/09/2023 17:04:28</td>\n",
       "      <td>13/09/2023 17:07:28</td>\n",
       "      <td>Sprint 66;Sprint 67;Sprint 68</td>\n",
       "    </tr>\n",
       "    <tr>\n",
       "      <th>3</th>\n",
       "      <td>SA-2</td>\n",
       "      <td>Yan Fagundes</td>\n",
       "      <td>Gabrieli Souza</td>\n",
       "      <td>Jean Carlos;Luiz Gustavo</td>\n",
       "      <td>Task</td>\n",
       "      <td>22/08/2023 15:25:50</td>\n",
       "      <td>22/08/2023 15:25:47</td>\n",
       "      <td>22/09/2023 17:04:30</td>\n",
       "      <td>05/09/2023 15:28:02</td>\n",
       "      <td>Sprint 66;Sprint 67;Sprint 68</td>\n",
       "    </tr>\n",
       "    <tr>\n",
       "      <th>4</th>\n",
       "      <td>SA-2</td>\n",
       "      <td>Yan Fagundes</td>\n",
       "      <td>Gabrieli Souza</td>\n",
       "      <td>Jean Carlos;Luiz Gustavo</td>\n",
       "      <td>Task</td>\n",
       "      <td>22/08/2023 09:06:09</td>\n",
       "      <td>22/08/2023 09:06:04</td>\n",
       "      <td>22/09/2023 17:03:34</td>\n",
       "      <td>13/09/2023 17:17:43</td>\n",
       "      <td>Sprint 66;Sprint 67;Sprint 68</td>\n",
       "    </tr>\n",
       "    <tr>\n",
       "      <th>...</th>\n",
       "      <td>...</td>\n",
       "      <td>...</td>\n",
       "      <td>...</td>\n",
       "      <td>...</td>\n",
       "      <td>...</td>\n",
       "      <td>...</td>\n",
       "      <td>...</td>\n",
       "      <td>...</td>\n",
       "      <td>...</td>\n",
       "      <td>...</td>\n",
       "    </tr>\n",
       "    <tr>\n",
       "      <th>158</th>\n",
       "      <td>SA-2</td>\n",
       "      <td>Yan Fagundes</td>\n",
       "      <td>Laura Venturini Minotto</td>\n",
       "      <td>Jean Carlos;Luiz Gustavo</td>\n",
       "      <td>Task</td>\n",
       "      <td>NaN</td>\n",
       "      <td>06/03/2023 14:36:32</td>\n",
       "      <td>04/05/2023 11:20:25</td>\n",
       "      <td>02/05/2023 15:18:07</td>\n",
       "      <td>Sprint 57;Sprint 58;Sprint 54;Sprint 55;Sprint 56</td>\n",
       "    </tr>\n",
       "    <tr>\n",
       "      <th>159</th>\n",
       "      <td>SA-2</td>\n",
       "      <td>Yan Fagundes</td>\n",
       "      <td>Laura Venturini Minotto</td>\n",
       "      <td>Jean Carlos;Luiz Gustavo</td>\n",
       "      <td>Task</td>\n",
       "      <td>NaN</td>\n",
       "      <td>06/03/2023 14:36:27</td>\n",
       "      <td>05/05/2023 13:07:24</td>\n",
       "      <td>05/05/2023 08:40:20</td>\n",
       "      <td>Sprint 57;Sprint 58;Sprint 54;Sprint 55;Sprint 56</td>\n",
       "    </tr>\n",
       "    <tr>\n",
       "      <th>160</th>\n",
       "      <td>SA-1</td>\n",
       "      <td>Donavan Marques</td>\n",
       "      <td>Gabrieli Souza</td>\n",
       "      <td>Kauã Librelato da Costa;Luiz Gustavo</td>\n",
       "      <td>Task</td>\n",
       "      <td>NaN</td>\n",
       "      <td>NaN</td>\n",
       "      <td>09/06/2023 15:55:44</td>\n",
       "      <td>07/06/2023 10:43:09</td>\n",
       "      <td>Sprint 60;Sprint 61</td>\n",
       "    </tr>\n",
       "    <tr>\n",
       "      <th>161</th>\n",
       "      <td>SA-1</td>\n",
       "      <td>Donavan Marques</td>\n",
       "      <td>Gabrieli Souza</td>\n",
       "      <td>Kauã Librelato da Costa;Luiz Gustavo</td>\n",
       "      <td>Task</td>\n",
       "      <td>NaN</td>\n",
       "      <td>NaN</td>\n",
       "      <td>07/06/2023 16:52:07</td>\n",
       "      <td>06/06/2023 13:26:33</td>\n",
       "      <td>Sprint 60;Sprint 61</td>\n",
       "    </tr>\n",
       "    <tr>\n",
       "      <th>162</th>\n",
       "      <td>SA-1</td>\n",
       "      <td>Donavan Marques</td>\n",
       "      <td>Gabrieli Souza</td>\n",
       "      <td>Kauã Librelato da Costa;Luiz Gustavo</td>\n",
       "      <td>Task</td>\n",
       "      <td>NaN</td>\n",
       "      <td>NaN</td>\n",
       "      <td>09/06/2023 15:55:42</td>\n",
       "      <td>07/06/2023 13:42:54</td>\n",
       "      <td>Sprint 60;Sprint 61</td>\n",
       "    </tr>\n",
       "  </tbody>\n",
       "</table>\n",
       "<p>163 rows × 10 columns</p>\n",
       "</div>"
      ],
      "text/plain": [
       "     parent         assignee                 designer   \n",
       "0      SA-3  Donavan Marques           Gabrieli Souza  \\\n",
       "1    SA-117     Yan Fagundes           Gabrieli Souza   \n",
       "2      SA-2     Yan Fagundes           Gabrieli Souza   \n",
       "3      SA-2     Yan Fagundes           Gabrieli Souza   \n",
       "4      SA-2     Yan Fagundes           Gabrieli Souza   \n",
       "..      ...              ...                      ...   \n",
       "158    SA-2     Yan Fagundes  Laura Venturini Minotto   \n",
       "159    SA-2     Yan Fagundes  Laura Venturini Minotto   \n",
       "160    SA-1  Donavan Marques           Gabrieli Souza   \n",
       "161    SA-1  Donavan Marques           Gabrieli Souza   \n",
       "162    SA-1  Donavan Marques           Gabrieli Souza   \n",
       "\n",
       "                                     devs issue_type    designendtaskdate   \n",
       "0           Carlos Pasquali;Jorge Andrade       Task  13/09/2023 10:10:40  \\\n",
       "1           Carlos Pasquali;Jorge Andrade       Task  31/08/2023 13:53:25   \n",
       "2                Jean Carlos;Luiz Gustavo       Task  22/08/2023 15:32:48   \n",
       "3                Jean Carlos;Luiz Gustavo       Task  22/08/2023 15:25:50   \n",
       "4                Jean Carlos;Luiz Gustavo       Task  22/08/2023 09:06:09   \n",
       "..                                    ...        ...                  ...   \n",
       "158              Jean Carlos;Luiz Gustavo       Task                  NaN   \n",
       "159              Jean Carlos;Luiz Gustavo       Task                  NaN   \n",
       "160  Kauã Librelato da Costa;Luiz Gustavo       Task                  NaN   \n",
       "161  Kauã Librelato da Costa;Luiz Gustavo       Task                  NaN   \n",
       "162  Kauã Librelato da Costa;Luiz Gustavo       Task                  NaN   \n",
       "\n",
       "     designstarttaskdate        endresolution      startresolution   \n",
       "0    13/09/2023 10:10:33  18/09/2023 16:24:42  15/09/2023 08:34:57  \\\n",
       "1    31/08/2023 13:53:20  05/09/2023 10:10:21  31/08/2023 13:53:28   \n",
       "2    22/08/2023 15:32:43  22/09/2023 17:04:28  13/09/2023 17:07:28   \n",
       "3    22/08/2023 15:25:47  22/09/2023 17:04:30  05/09/2023 15:28:02   \n",
       "4    22/08/2023 09:06:04  22/09/2023 17:03:34  13/09/2023 17:17:43   \n",
       "..                   ...                  ...                  ...   \n",
       "158  06/03/2023 14:36:32  04/05/2023 11:20:25  02/05/2023 15:18:07   \n",
       "159  06/03/2023 14:36:27  05/05/2023 13:07:24  05/05/2023 08:40:20   \n",
       "160                  NaN  09/06/2023 15:55:44  07/06/2023 10:43:09   \n",
       "161                  NaN  07/06/2023 16:52:07  06/06/2023 13:26:33   \n",
       "162                  NaN  09/06/2023 15:55:42  07/06/2023 13:42:54   \n",
       "\n",
       "                                                sprint  \n",
       "0                                            Sprint 68  \n",
       "1                                            Sprint 67  \n",
       "2                        Sprint 66;Sprint 67;Sprint 68  \n",
       "3                        Sprint 66;Sprint 67;Sprint 68  \n",
       "4                        Sprint 66;Sprint 67;Sprint 68  \n",
       "..                                                 ...  \n",
       "158  Sprint 57;Sprint 58;Sprint 54;Sprint 55;Sprint 56  \n",
       "159  Sprint 57;Sprint 58;Sprint 54;Sprint 55;Sprint 56  \n",
       "160                                Sprint 60;Sprint 61  \n",
       "161                                Sprint 60;Sprint 61  \n",
       "162                                Sprint 60;Sprint 61  \n",
       "\n",
       "[163 rows x 10 columns]"
      ]
     },
     "execution_count": 150,
     "metadata": {},
     "output_type": "execute_result"
    }
   ],
   "source": [
    "dadosLimpos"
   ]
  },
  {
   "cell_type": "code",
   "execution_count": 151,
   "metadata": {},
   "outputs": [],
   "source": [
    "dadosLimpos.to_csv('../data/dados_limpos.csv', index=False)"
   ]
  }
 ],
 "metadata": {
  "kernelspec": {
   "display_name": "Python 3",
   "language": "python",
   "name": "python3"
  },
  "language_info": {
   "codemirror_mode": {
    "name": "ipython",
    "version": 3
   },
   "file_extension": ".py",
   "mimetype": "text/x-python",
   "name": "python",
   "nbconvert_exporter": "python",
   "pygments_lexer": "ipython3",
   "version": "3.11.3"
  },
  "orig_nbformat": 4,
  "vscode": {
   "interpreter": {
    "hash": "c261aea317cc0286b3b3261fbba9abdec21eaa57589985bb7a274bf54d6cc0a7"
   }
  }
 },
 "nbformat": 4,
 "nbformat_minor": 2
}
