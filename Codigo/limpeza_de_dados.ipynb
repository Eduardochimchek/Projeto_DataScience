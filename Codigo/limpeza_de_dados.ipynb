{
 "cells": [
  {
   "cell_type": "markdown",
   "metadata": {},
   "source": [
    "# DataScience - Projeto ADA\n",
    "\n",
    "#### Integrantes\n",
    "- Eduardo Chimchek Jeronimo\n",
    "- Gabriel Rosso\n",
    "- João Augusto da silva borges\n",
    "- Josiane Rodrigues"
   ]
  },
  {
   "cell_type": "markdown",
   "metadata": {},
   "source": [
    "### Limpeza dos dados"
   ]
  },
  {
   "cell_type": "code",
   "execution_count": 180,
   "metadata": {},
   "outputs": [],
   "source": [
    "#!pip install pandas\n",
    "#!pip install numpy\n",
    "\n",
    "import pandas as pd\n",
    "import numpy as np"
   ]
  },
  {
   "cell_type": "code",
   "execution_count": 181,
   "metadata": {},
   "outputs": [],
   "source": [
    "dadosAllFields  = pd.read_csv('../data/issues_all_fields.csv')\n",
    "dadosUnidos = pd.read_csv('../data/issues_main_fields.csv')\n",
    "dadosParents    = pd.read_csv('../data/parents.csv')\n",
    "\n",
    "dadosUnidos = pd.merge(dadosUnidos, dadosAllFields, how = 'inner', on = 'Key')\n",
    "\n",
    "##dadosUnidos\n",
    "\n",
    "\n",
    "#dadosAllFields\n",
    "#dadosMainFields\n",
    "#dadosParents"
   ]
  },
  {
   "cell_type": "markdown",
   "metadata": {},
   "source": [
    "## Comprovando que o x e y são mesmos valores"
   ]
  },
  {
   "cell_type": "code",
   "execution_count": 182,
   "metadata": {},
   "outputs": [
    {
     "data": {
      "text/html": [
       "<div>\n",
       "<style scoped>\n",
       "    .dataframe tbody tr th:only-of-type {\n",
       "        vertical-align: middle;\n",
       "    }\n",
       "\n",
       "    .dataframe tbody tr th {\n",
       "        vertical-align: top;\n",
       "    }\n",
       "\n",
       "    .dataframe thead th {\n",
       "        text-align: right;\n",
       "    }\n",
       "</style>\n",
       "<table border=\"1\" class=\"dataframe\">\n",
       "  <thead>\n",
       "    <tr style=\"text-align: right;\">\n",
       "      <th></th>\n",
       "      <th>Designer_x</th>\n",
       "      <th>Designer_y</th>\n",
       "    </tr>\n",
       "  </thead>\n",
       "  <tbody>\n",
       "    <tr>\n",
       "      <th>0</th>\n",
       "      <td>NaN</td>\n",
       "      <td>NaN</td>\n",
       "    </tr>\n",
       "    <tr>\n",
       "      <th>1</th>\n",
       "      <td>NaN</td>\n",
       "      <td>NaN</td>\n",
       "    </tr>\n",
       "    <tr>\n",
       "      <th>2</th>\n",
       "      <td>NaN</td>\n",
       "      <td>NaN</td>\n",
       "    </tr>\n",
       "    <tr>\n",
       "      <th>3</th>\n",
       "      <td>NaN</td>\n",
       "      <td>NaN</td>\n",
       "    </tr>\n",
       "    <tr>\n",
       "      <th>4</th>\n",
       "      <td>NaN</td>\n",
       "      <td>NaN</td>\n",
       "    </tr>\n",
       "    <tr>\n",
       "      <th>...</th>\n",
       "      <td>...</td>\n",
       "      <td>...</td>\n",
       "    </tr>\n",
       "    <tr>\n",
       "      <th>2174</th>\n",
       "      <td>Gabrieli Souza</td>\n",
       "      <td>Gabrieli Souza</td>\n",
       "    </tr>\n",
       "    <tr>\n",
       "      <th>2175</th>\n",
       "      <td>Gabrieli Souza</td>\n",
       "      <td>Gabrieli Souza</td>\n",
       "    </tr>\n",
       "    <tr>\n",
       "      <th>2176</th>\n",
       "      <td>Gabrieli Souza</td>\n",
       "      <td>Gabrieli Souza</td>\n",
       "    </tr>\n",
       "    <tr>\n",
       "      <th>2177</th>\n",
       "      <td>Gabrieli Souza</td>\n",
       "      <td>Gabrieli Souza</td>\n",
       "    </tr>\n",
       "    <tr>\n",
       "      <th>2178</th>\n",
       "      <td>Gabrieli Souza</td>\n",
       "      <td>Gabrieli Souza</td>\n",
       "    </tr>\n",
       "  </tbody>\n",
       "</table>\n",
       "<p>2179 rows × 2 columns</p>\n",
       "</div>"
      ],
      "text/plain": [
       "          Designer_x      Designer_y\n",
       "0                NaN             NaN\n",
       "1                NaN             NaN\n",
       "2                NaN             NaN\n",
       "3                NaN             NaN\n",
       "4                NaN             NaN\n",
       "...              ...             ...\n",
       "2174  Gabrieli Souza  Gabrieli Souza\n",
       "2175  Gabrieli Souza  Gabrieli Souza\n",
       "2176  Gabrieli Souza  Gabrieli Souza\n",
       "2177  Gabrieli Souza  Gabrieli Souza\n",
       "2178  Gabrieli Souza  Gabrieli Souza\n",
       "\n",
       "[2179 rows x 2 columns]"
      ]
     },
     "execution_count": 182,
     "metadata": {},
     "output_type": "execute_result"
    }
   ],
   "source": [
    "dadosUnidos2 = dadosUnidos[['Designer_x','Designer_y']]\n",
    "\n",
    "\n",
    "dadosUnidos2"
   ]
  },
  {
   "cell_type": "markdown",
   "metadata": {},
   "source": [
    "## Dropando as colunas y"
   ]
  },
  {
   "cell_type": "code",
   "execution_count": 183,
   "metadata": {},
   "outputs": [],
   "source": [
    "dadosUnidos = dadosUnidos.drop(dadosUnidos.filter(regex='_y').columns, axis=1)"
   ]
  },
  {
   "cell_type": "markdown",
   "metadata": {},
   "source": [
    "### Colunas"
   ]
  },
  {
   "cell_type": "code",
   "execution_count": 184,
   "metadata": {},
   "outputs": [
    {
     "data": {
      "text/plain": [
       "Index(['Key', 'parent_x', 'Summary_x', 'Assignee_x', 'Designer_x', 'Devs_x',\n",
       "       'Issue Type_x', 'Status_x', 'Story point estimate_x', 'Created',\n",
       "       'Resolved_x', 'Creator_x', 'DesignEndTaskDate', 'DesignStartTaskDate',\n",
       "       'EndResolution', 'EndSubTaskDate', 'Epic Link', 'Epic Link.Name',\n",
       "       'Reporter', 'RequirementsEndTaskDate', 'RequirementsStartTaskDate',\n",
       "       'Start date', 'StartResolution', 'Sprint', 'StartSubTaskDate',\n",
       "       'Status Transition', 'Time tracking'],\n",
       "      dtype='object')"
      ]
     },
     "execution_count": 184,
     "metadata": {},
     "output_type": "execute_result"
    }
   ],
   "source": [
    "#dadosAllFields.columns\n",
    "#dadosMainFields.columns\n",
    "#dadosParents.columns\n",
    "\n",
    "dadosUnidos.columns"
   ]
  },
  {
   "cell_type": "markdown",
   "metadata": {},
   "source": [
    "### Formatando Nomes\n",
    "Para facilitar o entendimento do nome das colunas e do uso das mesmas ao longo do código, será feito uma formatação para remover caracteres especiais e espaçamentos além de padronizar tudo para minúscula e no formato snake_case"
   ]
  },
  {
   "cell_type": "code",
   "execution_count": 185,
   "metadata": {},
   "outputs": [],
   "source": [
    "##!pip install unidecode\n",
    "\n",
    "from unidecode import unidecode\n",
    "\n",
    "def formatColumnName(column):\n",
    "    newName = unidecode(column).lower()\n",
    "    newName = newName.replace('.', '')\n",
    "    newName = newName.replace('_x', '')\n",
    "    newName = newName.replace(' ', '_')\n",
    "    return newName\n"
   ]
  },
  {
   "cell_type": "code",
   "execution_count": 186,
   "metadata": {},
   "outputs": [
    {
     "data": {
      "text/plain": [
       "{'Key': 'key',\n",
       " 'parent_x': 'parent',\n",
       " 'Summary_x': 'summary',\n",
       " 'Assignee_x': 'assignee',\n",
       " 'Designer_x': 'designer',\n",
       " 'Devs_x': 'devs',\n",
       " 'Issue Type_x': 'issue_type',\n",
       " 'Status_x': 'status',\n",
       " 'Story point estimate_x': 'story_point_estimate',\n",
       " 'Created': 'created',\n",
       " 'Resolved_x': 'resolved',\n",
       " 'Creator_x': 'creator',\n",
       " 'DesignEndTaskDate': 'designendtaskdate',\n",
       " 'DesignStartTaskDate': 'designstarttaskdate',\n",
       " 'EndResolution': 'endresolution',\n",
       " 'EndSubTaskDate': 'endsubtaskdate',\n",
       " 'Epic Link': 'epic_link',\n",
       " 'Epic Link.Name': 'epic_linkname',\n",
       " 'Reporter': 'reporter',\n",
       " 'RequirementsEndTaskDate': 'requirementsendtaskdate',\n",
       " 'RequirementsStartTaskDate': 'requirementsstarttaskdate',\n",
       " 'Start date': 'start_date',\n",
       " 'StartResolution': 'startresolution',\n",
       " 'Sprint': 'sprint',\n",
       " 'StartSubTaskDate': 'startsubtaskdate',\n",
       " 'Status Transition': 'status_transition',\n",
       " 'Time tracking': 'time_tracking'}"
      ]
     },
     "execution_count": 186,
     "metadata": {},
     "output_type": "execute_result"
    }
   ],
   "source": [
    "newNamesDict = dict()\n",
    "\n",
    "for column in dadosUnidos.columns:\n",
    "    newNamesDict[column] = formatColumnName(column)\n",
    "\n",
    "newNamesDict"
   ]
  },
  {
   "cell_type": "code",
   "execution_count": 187,
   "metadata": {},
   "outputs": [],
   "source": [
    "dadosUnidos = dadosUnidos.rename(columns=newNamesDict)"
   ]
  },
  {
   "cell_type": "markdown",
   "metadata": {},
   "source": [
    "### Verificando Tipo de Dados\n",
    "Precisamos verificar os tipos de dados que contem em cada coluna e com essa informação fazer o tratamento dos dados de forma adequada."
   ]
  },
  {
   "cell_type": "code",
   "execution_count": 188,
   "metadata": {},
   "outputs": [
    {
     "data": {
      "text/plain": [
       "array(['25/09/2023 04:56:08', '25/09/2023 04:54:38',\n",
       "       '25/09/2023 04:52:56', ..., '10/10/2022 06:29:43',\n",
       "       '14/10/2022 06:37:11', '10/10/2022 06:29:58'], dtype=object)"
      ]
     },
     "execution_count": 188,
     "metadata": {},
     "output_type": "execute_result"
    }
   ],
   "source": [
    "dadosUnidos['created'].unique()"
   ]
  },
  {
   "cell_type": "code",
   "execution_count": 189,
   "metadata": {},
   "outputs": [
    {
     "data": {
      "text/plain": [
       "array([nan, '22/09/2023 12:47:24', '22/09/2023 12:51:56', ...,\n",
       "       '27/02/2023 03:37:15', '23/01/2023 04:31:51',\n",
       "       '23/01/2023 04:31:47'], dtype=object)"
      ]
     },
     "execution_count": 189,
     "metadata": {},
     "output_type": "execute_result"
    }
   ],
   "source": [
    "dadosUnidos['resolved'].unique()"
   ]
  },
  {
   "cell_type": "code",
   "execution_count": 190,
   "metadata": {},
   "outputs": [],
   "source": [
    "dadosUnidos = dadosUnidos[(~pd.isnull(dadosUnidos['startresolution']))]\n",
    "dadosUnidos = dadosUnidos.reset_index(drop=True)\n",
    "\n",
    "dadosUnidos = dadosUnidos[(~pd.isnull(dadosUnidos['endresolution']))]\n",
    "dadosUnidos = dadosUnidos.reset_index(drop=True)\n",
    "\n",
    "dadosUnidos = dadosUnidos[(~pd.notnull(dadosUnidos['designendtaskdate']))]\n",
    "dadosUnidos = dadosUnidos.reset_index(drop=True)\n",
    "\n",
    "dadosUnidos = dadosUnidos[(~pd.notnull(dadosUnidos['designstarttaskdate']))]\n",
    "dadosUnidos = dadosUnidos.reset_index(drop=True)\n",
    "\n",
    "dadosUnidos = dadosUnidos[(~pd.notnull(dadosUnidos['designer']))]\n",
    "dadosUnidos = dadosUnidos.reset_index(drop=True)"
   ]
  },
  {
   "cell_type": "code",
   "execution_count": 191,
   "metadata": {},
   "outputs": [
    {
     "data": {
      "text/html": [
       "<div>\n",
       "<style scoped>\n",
       "    .dataframe tbody tr th:only-of-type {\n",
       "        vertical-align: middle;\n",
       "    }\n",
       "\n",
       "    .dataframe tbody tr th {\n",
       "        vertical-align: top;\n",
       "    }\n",
       "\n",
       "    .dataframe thead th {\n",
       "        text-align: right;\n",
       "    }\n",
       "</style>\n",
       "<table border=\"1\" class=\"dataframe\">\n",
       "  <thead>\n",
       "    <tr style=\"text-align: right;\">\n",
       "      <th></th>\n",
       "      <th>parent</th>\n",
       "      <th>assignee</th>\n",
       "      <th>devs</th>\n",
       "      <th>issue_type</th>\n",
       "      <th>endresolution</th>\n",
       "      <th>startresolution</th>\n",
       "      <th>sprint</th>\n",
       "    </tr>\n",
       "  </thead>\n",
       "  <tbody>\n",
       "    <tr>\n",
       "      <th>0</th>\n",
       "      <td>SA-2</td>\n",
       "      <td>Yan Fagundes</td>\n",
       "      <td>Jean Carlos</td>\n",
       "      <td>Bug</td>\n",
       "      <td>22/09/2023 16:47:24</td>\n",
       "      <td>22/09/2023 09:18:10</td>\n",
       "      <td>Sprint 68</td>\n",
       "    </tr>\n",
       "    <tr>\n",
       "      <th>1</th>\n",
       "      <td>SA-2</td>\n",
       "      <td>Yan Fagundes</td>\n",
       "      <td>Jean Carlos</td>\n",
       "      <td>Bug</td>\n",
       "      <td>22/09/2023 16:51:56</td>\n",
       "      <td>22/09/2023 09:26:58</td>\n",
       "      <td>Sprint 68</td>\n",
       "    </tr>\n",
       "    <tr>\n",
       "      <th>2</th>\n",
       "      <td>SA-2</td>\n",
       "      <td>Yan Fagundes</td>\n",
       "      <td>Jean Carlos;Luiz Gustavo</td>\n",
       "      <td>Bug</td>\n",
       "      <td>22/09/2023 16:48:27</td>\n",
       "      <td>22/09/2023 09:55:29</td>\n",
       "      <td>Sprint 68</td>\n",
       "    </tr>\n",
       "    <tr>\n",
       "      <th>3</th>\n",
       "      <td>SA-2</td>\n",
       "      <td>Yan Fagundes</td>\n",
       "      <td>Jean Carlos</td>\n",
       "      <td>Bug</td>\n",
       "      <td>22/09/2023 16:49:39</td>\n",
       "      <td>22/09/2023 09:01:01</td>\n",
       "      <td>Sprint 68</td>\n",
       "    </tr>\n",
       "    <tr>\n",
       "      <th>4</th>\n",
       "      <td>SA-3947</td>\n",
       "      <td>Yan Fagundes</td>\n",
       "      <td>Luiz Gustavo</td>\n",
       "      <td>Task</td>\n",
       "      <td>22/09/2023 10:28:00</td>\n",
       "      <td>20/09/2023 15:15:53</td>\n",
       "      <td>Sprint 68</td>\n",
       "    </tr>\n",
       "  </tbody>\n",
       "</table>\n",
       "</div>"
      ],
      "text/plain": [
       "    parent      assignee                      devs issue_type   \n",
       "0     SA-2  Yan Fagundes               Jean Carlos        Bug  \\\n",
       "1     SA-2  Yan Fagundes               Jean Carlos        Bug   \n",
       "2     SA-2  Yan Fagundes  Jean Carlos;Luiz Gustavo        Bug   \n",
       "3     SA-2  Yan Fagundes               Jean Carlos        Bug   \n",
       "4  SA-3947  Yan Fagundes              Luiz Gustavo       Task   \n",
       "\n",
       "         endresolution      startresolution     sprint  \n",
       "0  22/09/2023 16:47:24  22/09/2023 09:18:10  Sprint 68  \n",
       "1  22/09/2023 16:51:56  22/09/2023 09:26:58  Sprint 68  \n",
       "2  22/09/2023 16:48:27  22/09/2023 09:55:29  Sprint 68  \n",
       "3  22/09/2023 16:49:39  22/09/2023 09:01:01  Sprint 68  \n",
       "4  22/09/2023 10:28:00  20/09/2023 15:15:53  Sprint 68  "
      ]
     },
     "execution_count": 191,
     "metadata": {},
     "output_type": "execute_result"
    }
   ],
   "source": [
    "\n",
    "dadosLimpos = dadosUnidos[['parent','assignee','devs','issue_type','endresolution','startresolution','sprint']]\n",
    "dadosLimpos.head()"
   ]
  },
  {
   "cell_type": "markdown",
   "metadata": {},
   "source": [
    "### Gerando Totais de sprints de cada registro"
   ]
  },
  {
   "cell_type": "code",
   "execution_count": 192,
   "metadata": {},
   "outputs": [],
   "source": [
    "# Função para contar o número de sprints em uma célula\n",
    "def contar_sprints(s):\n",
    "    return s.count(';') + 1 if isinstance(s, str) else 0"
   ]
  },
  {
   "cell_type": "code",
   "execution_count": 193,
   "metadata": {},
   "outputs": [
    {
     "name": "stderr",
     "output_type": "stream",
     "text": [
      "C:\\Users\\T-GAMER\\AppData\\Local\\Temp\\ipykernel_11100\\444964105.py:2: SettingWithCopyWarning: \n",
      "A value is trying to be set on a copy of a slice from a DataFrame.\n",
      "Try using .loc[row_indexer,col_indexer] = value instead\n",
      "\n",
      "See the caveats in the documentation: https://pandas.pydata.org/pandas-docs/stable/user_guide/indexing.html#returning-a-view-versus-a-copy\n",
      "  dadosLimpos.loc[:, 'total_sprints'] = dadosLimpos['sprint'].apply(contar_sprints)\n"
     ]
    }
   ],
   "source": [
    "# Criar uma nova coluna 'total_sprints' com o número total de sprints\n",
    "dadosLimpos.loc[:, 'total_sprints'] = dadosLimpos['sprint'].apply(contar_sprints)"
   ]
  },
  {
   "cell_type": "code",
   "execution_count": 194,
   "metadata": {},
   "outputs": [],
   "source": [
    "dadosLimpos = dadosLimpos.drop(columns='sprint')"
   ]
  },
  {
   "cell_type": "markdown",
   "metadata": {},
   "source": [
    "### Gerando uma nova coluna que é diferença entre as datas de startresolution e endresolution"
   ]
  },
  {
   "cell_type": "code",
   "execution_count": 195,
   "metadata": {},
   "outputs": [],
   "source": [
    "# Converter colunas para o tipo datetime\n",
    "dadosLimpos['endresolution'] = pd.to_datetime(dadosLimpos['endresolution'], format='%d/%m/%Y %H:%M:%S')\n",
    "dadosLimpos['startresolution'] = pd.to_datetime(dadosLimpos['startresolution'], format='%d/%m/%Y %H:%M:%S')\n",
    "\n",
    "# Calcular a diferença entre as colunas\n",
    "dadosLimpos['tempo_resolucao'] = (dadosLimpos['endresolution'] - dadosLimpos['startresolution']).dt.total_seconds().astype(int)"
   ]
  },
  {
   "cell_type": "code",
   "execution_count": 196,
   "metadata": {},
   "outputs": [],
   "source": [
    "dadosLimpos = dadosLimpos.drop(columns=['startresolution','endresolution'])"
   ]
  },
  {
   "cell_type": "code",
   "execution_count": 197,
   "metadata": {},
   "outputs": [
    {
     "data": {
      "text/html": [
       "<div>\n",
       "<style scoped>\n",
       "    .dataframe tbody tr th:only-of-type {\n",
       "        vertical-align: middle;\n",
       "    }\n",
       "\n",
       "    .dataframe tbody tr th {\n",
       "        vertical-align: top;\n",
       "    }\n",
       "\n",
       "    .dataframe thead th {\n",
       "        text-align: right;\n",
       "    }\n",
       "</style>\n",
       "<table border=\"1\" class=\"dataframe\">\n",
       "  <thead>\n",
       "    <tr style=\"text-align: right;\">\n",
       "      <th></th>\n",
       "      <th>parent</th>\n",
       "      <th>assignee</th>\n",
       "      <th>devs</th>\n",
       "      <th>issue_type</th>\n",
       "      <th>total_sprints</th>\n",
       "      <th>tempo_resolucao</th>\n",
       "    </tr>\n",
       "  </thead>\n",
       "  <tbody>\n",
       "    <tr>\n",
       "      <th>0</th>\n",
       "      <td>SA-2</td>\n",
       "      <td>Yan Fagundes</td>\n",
       "      <td>Jean Carlos</td>\n",
       "      <td>Bug</td>\n",
       "      <td>1</td>\n",
       "      <td>26954</td>\n",
       "    </tr>\n",
       "    <tr>\n",
       "      <th>1</th>\n",
       "      <td>SA-2</td>\n",
       "      <td>Yan Fagundes</td>\n",
       "      <td>Jean Carlos</td>\n",
       "      <td>Bug</td>\n",
       "      <td>1</td>\n",
       "      <td>26698</td>\n",
       "    </tr>\n",
       "    <tr>\n",
       "      <th>2</th>\n",
       "      <td>SA-2</td>\n",
       "      <td>Yan Fagundes</td>\n",
       "      <td>Jean Carlos;Luiz Gustavo</td>\n",
       "      <td>Bug</td>\n",
       "      <td>1</td>\n",
       "      <td>24778</td>\n",
       "    </tr>\n",
       "    <tr>\n",
       "      <th>3</th>\n",
       "      <td>SA-2</td>\n",
       "      <td>Yan Fagundes</td>\n",
       "      <td>Jean Carlos</td>\n",
       "      <td>Bug</td>\n",
       "      <td>1</td>\n",
       "      <td>28118</td>\n",
       "    </tr>\n",
       "    <tr>\n",
       "      <th>4</th>\n",
       "      <td>SA-3947</td>\n",
       "      <td>Yan Fagundes</td>\n",
       "      <td>Luiz Gustavo</td>\n",
       "      <td>Task</td>\n",
       "      <td>1</td>\n",
       "      <td>155527</td>\n",
       "    </tr>\n",
       "    <tr>\n",
       "      <th>...</th>\n",
       "      <td>...</td>\n",
       "      <td>...</td>\n",
       "      <td>...</td>\n",
       "      <td>...</td>\n",
       "      <td>...</td>\n",
       "      <td>...</td>\n",
       "    </tr>\n",
       "    <tr>\n",
       "      <th>285</th>\n",
       "      <td>SA-117</td>\n",
       "      <td>Yan Fagundes</td>\n",
       "      <td>Carlos Pasquali</td>\n",
       "      <td>Task</td>\n",
       "      <td>1</td>\n",
       "      <td>86400</td>\n",
       "    </tr>\n",
       "    <tr>\n",
       "      <th>286</th>\n",
       "      <td>SA-2</td>\n",
       "      <td>Yan Fagundes</td>\n",
       "      <td>NaN</td>\n",
       "      <td>Task</td>\n",
       "      <td>2</td>\n",
       "      <td>10037</td>\n",
       "    </tr>\n",
       "    <tr>\n",
       "      <th>287</th>\n",
       "      <td>SA-2859</td>\n",
       "      <td>Donavan Marques</td>\n",
       "      <td>Kauã Librelato da Costa</td>\n",
       "      <td>Bug</td>\n",
       "      <td>9</td>\n",
       "      <td>616125</td>\n",
       "    </tr>\n",
       "    <tr>\n",
       "      <th>288</th>\n",
       "      <td>SA-2</td>\n",
       "      <td>Yan Fagundes</td>\n",
       "      <td>NaN</td>\n",
       "      <td>Task</td>\n",
       "      <td>7</td>\n",
       "      <td>13524</td>\n",
       "    </tr>\n",
       "    <tr>\n",
       "      <th>289</th>\n",
       "      <td>SA-2</td>\n",
       "      <td>Yan Fagundes</td>\n",
       "      <td>Luiz Gustavo</td>\n",
       "      <td>Task</td>\n",
       "      <td>5</td>\n",
       "      <td>160604</td>\n",
       "    </tr>\n",
       "  </tbody>\n",
       "</table>\n",
       "<p>290 rows × 6 columns</p>\n",
       "</div>"
      ],
      "text/plain": [
       "      parent         assignee                      devs issue_type   \n",
       "0       SA-2     Yan Fagundes               Jean Carlos        Bug  \\\n",
       "1       SA-2     Yan Fagundes               Jean Carlos        Bug   \n",
       "2       SA-2     Yan Fagundes  Jean Carlos;Luiz Gustavo        Bug   \n",
       "3       SA-2     Yan Fagundes               Jean Carlos        Bug   \n",
       "4    SA-3947     Yan Fagundes              Luiz Gustavo       Task   \n",
       "..       ...              ...                       ...        ...   \n",
       "285   SA-117     Yan Fagundes           Carlos Pasquali       Task   \n",
       "286     SA-2     Yan Fagundes                       NaN       Task   \n",
       "287  SA-2859  Donavan Marques   Kauã Librelato da Costa        Bug   \n",
       "288     SA-2     Yan Fagundes                       NaN       Task   \n",
       "289     SA-2     Yan Fagundes              Luiz Gustavo       Task   \n",
       "\n",
       "     total_sprints  tempo_resolucao  \n",
       "0                1            26954  \n",
       "1                1            26698  \n",
       "2                1            24778  \n",
       "3                1            28118  \n",
       "4                1           155527  \n",
       "..             ...              ...  \n",
       "285              1            86400  \n",
       "286              2            10037  \n",
       "287              9           616125  \n",
       "288              7            13524  \n",
       "289              5           160604  \n",
       "\n",
       "[290 rows x 6 columns]"
      ]
     },
     "execution_count": 197,
     "metadata": {},
     "output_type": "execute_result"
    }
   ],
   "source": [
    "dadosLimpos"
   ]
  },
  {
   "cell_type": "code",
   "execution_count": 198,
   "metadata": {},
   "outputs": [],
   "source": [
    "dadosLimpos.to_csv('../data/dados_limpos.csv', index=False)"
   ]
  }
 ],
 "metadata": {
  "kernelspec": {
   "display_name": "Python 3",
   "language": "python",
   "name": "python3"
  },
  "language_info": {
   "codemirror_mode": {
    "name": "ipython",
    "version": 3
   },
   "file_extension": ".py",
   "mimetype": "text/x-python",
   "name": "python",
   "nbconvert_exporter": "python",
   "pygments_lexer": "ipython3",
   "version": "3.11.3"
  },
  "orig_nbformat": 4,
  "vscode": {
   "interpreter": {
    "hash": "c261aea317cc0286b3b3261fbba9abdec21eaa57589985bb7a274bf54d6cc0a7"
   }
  }
 },
 "nbformat": 4,
 "nbformat_minor": 2
}
