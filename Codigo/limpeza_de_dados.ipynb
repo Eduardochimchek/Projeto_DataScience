{
 "cells": [
  {
   "cell_type": "markdown",
   "metadata": {},
   "source": [
    "# DataScience - Projeto ADA\n",
    "\n",
    "#### Integrantes\n",
    "- Eduardo Chimchek Jeronimo\n",
    "- Gabriel Rosso\n",
    "- João Augusto da silva borges\n",
    "- Josiane Rodrigues"
   ]
  },
  {
   "cell_type": "markdown",
   "metadata": {},
   "source": [
    "### Limpeza dos dados"
   ]
  },
  {
   "cell_type": "code",
   "execution_count": 49,
   "metadata": {},
   "outputs": [],
   "source": [
    "import pandas as pd\n",
    "import numpy as np"
   ]
  },
  {
   "cell_type": "code",
   "execution_count": 50,
   "metadata": {},
   "outputs": [],
   "source": [
    "dadosAllFields  = pd.read_csv('../data/issues_all_fields.csv')\n",
    "dadosMainFields = pd.read_csv('../data/issues_main_fields.csv')\n",
    "dadosParents    = pd.read_csv('../data/parents.csv')\n",
    "\n",
    "#dadosAllFields\n",
    "#dadosMainFields\n",
    "#dadosParents"
   ]
  },
  {
   "cell_type": "markdown",
   "metadata": {},
   "source": [
    "### Colunas"
   ]
  },
  {
   "cell_type": "code",
   "execution_count": 51,
   "metadata": {},
   "outputs": [
    {
     "data": {
      "text/plain": [
       "Index(['Key', 'parent', 'Summary', 'Assignee', 'Designer', 'Devs',\n",
       "       'Issue Type', 'Status', 'Story point estimate', 'Created', 'Resolved',\n",
       "       'Creator'],\n",
       "      dtype='object')"
      ]
     },
     "execution_count": 51,
     "metadata": {},
     "output_type": "execute_result"
    }
   ],
   "source": [
    "#dadosAllFields.columns\n",
    "dadosMainFields.columns\n",
    "#dadosParents.columns"
   ]
  },
  {
   "cell_type": "markdown",
   "metadata": {},
   "source": [
    "### Formatando Nomes\n",
    "Para facilitar o entendimento do nome das colunas e do uso das mesmas ao longo do código, será feito uma formatação para remover caracteres especiais e espaçamentos além de padronizar tudo para minúscula e no formato snake_case"
   ]
  },
  {
   "cell_type": "code",
   "execution_count": 52,
   "metadata": {},
   "outputs": [],
   "source": [
    "#!pip install unidecode\n",
    "\n",
    "from unidecode import unidecode\n",
    "\n",
    "def formatColumnName(column):\n",
    "    newName = unidecode(column).lower()\n",
    "    newName = newName.replace('.', '')\n",
    "    newName = newName.replace(' ', '_')\n",
    "    return newName\n"
   ]
  },
  {
   "cell_type": "code",
   "execution_count": 53,
   "metadata": {},
   "outputs": [
    {
     "data": {
      "text/plain": [
       "{'Key': 'key',\n",
       " 'parent': 'parent',\n",
       " 'Summary': 'summary',\n",
       " 'Assignee': 'assignee',\n",
       " 'Designer': 'designer',\n",
       " 'Devs': 'devs',\n",
       " 'Issue Type': 'issue_type',\n",
       " 'Status': 'status',\n",
       " 'Story point estimate': 'story_point_estimate',\n",
       " 'Created': 'created',\n",
       " 'Resolved': 'resolved',\n",
       " 'Creator': 'creator'}"
      ]
     },
     "execution_count": 53,
     "metadata": {},
     "output_type": "execute_result"
    }
   ],
   "source": [
    "newNamesDict = dict()\n",
    "\n",
    "for column in dadosMainFields.columns:\n",
    "    newNamesDict[column] = formatColumnName(column)\n",
    "\n",
    "newNamesDict"
   ]
  },
  {
   "cell_type": "code",
   "execution_count": 54,
   "metadata": {},
   "outputs": [],
   "source": [
    "dadosMainFields = dadosMainFields.rename(columns=newNamesDict)"
   ]
  },
  {
   "cell_type": "markdown",
   "metadata": {},
   "source": [
    "### Verificando Tipo de Dados\n",
    "Precisamos verificar os tipos de dados que contem em cada coluna e com essa informação fazer o tratamento dos dados de forma adequada."
   ]
  },
  {
   "cell_type": "code",
   "execution_count": 55,
   "metadata": {},
   "outputs": [
    {
     "data": {
      "text/plain": [
       "array(['25/09/2023 04:56:08', '25/09/2023 04:54:38',\n",
       "       '25/09/2023 04:52:56', ..., '10/10/2022 06:29:43',\n",
       "       '14/10/2022 06:37:11', '10/10/2022 06:29:58'], dtype=object)"
      ]
     },
     "execution_count": 55,
     "metadata": {},
     "output_type": "execute_result"
    }
   ],
   "source": [
    "dadosMainFields['created'].unique()"
   ]
  },
  {
   "cell_type": "code",
   "execution_count": 56,
   "metadata": {},
   "outputs": [
    {
     "data": {
      "text/plain": [
       "array([nan, '22/09/2023 12:47:24', '22/09/2023 12:51:56', ...,\n",
       "       '27/02/2023 03:37:15', '23/01/2023 04:31:51',\n",
       "       '23/01/2023 04:31:47'], dtype=object)"
      ]
     },
     "execution_count": 56,
     "metadata": {},
     "output_type": "execute_result"
    }
   ],
   "source": [
    "dadosMainFields['resolved'].unique()"
   ]
  },
  {
   "cell_type": "code",
   "execution_count": 57,
   "metadata": {},
   "outputs": [],
   "source": [
    "dadosMainFields = dadosMainFields[(~pd.isnull(dadosMainFields['resolved']))]\n",
    "dadosMainFields = dadosMainFields.reset_index(drop=True)\n",
    "\n",
    "dadosMainFields = dadosMainFields[(~pd.isnull(dadosMainFields['designer']))]\n",
    "dadosMainFields = dadosMainFields.reset_index(drop=True)"
   ]
  },
  {
   "cell_type": "code",
   "execution_count": 58,
   "metadata": {},
   "outputs": [
    {
     "data": {
      "text/html": [
       "<div>\n",
       "<style scoped>\n",
       "    .dataframe tbody tr th:only-of-type {\n",
       "        vertical-align: middle;\n",
       "    }\n",
       "\n",
       "    .dataframe tbody tr th {\n",
       "        vertical-align: top;\n",
       "    }\n",
       "\n",
       "    .dataframe thead th {\n",
       "        text-align: right;\n",
       "    }\n",
       "</style>\n",
       "<table border=\"1\" class=\"dataframe\">\n",
       "  <thead>\n",
       "    <tr style=\"text-align: right;\">\n",
       "      <th></th>\n",
       "      <th>key</th>\n",
       "      <th>parent</th>\n",
       "      <th>summary</th>\n",
       "      <th>devs</th>\n",
       "      <th>issue_type</th>\n",
       "      <th>status</th>\n",
       "      <th>created</th>\n",
       "      <th>resolved</th>\n",
       "      <th>creator</th>\n",
       "    </tr>\n",
       "  </thead>\n",
       "  <tbody>\n",
       "    <tr>\n",
       "      <th>0</th>\n",
       "      <td>SA-4464</td>\n",
       "      <td>SA-3</td>\n",
       "      <td>Produção | Expedição | Lotes | Classificação d...</td>\n",
       "      <td>Carlos Pasquali;Jorge Andrade</td>\n",
       "      <td>Task</td>\n",
       "      <td>Done</td>\n",
       "      <td>13/09/2023 05:41:49</td>\n",
       "      <td>18/09/2023 12:24:42</td>\n",
       "      <td>Donavan Marques</td>\n",
       "    </tr>\n",
       "    <tr>\n",
       "      <th>1</th>\n",
       "      <td>SA-4353</td>\n",
       "      <td>SA-117</td>\n",
       "      <td>Dashboard | Linha do tempo - Manutenções | Alt...</td>\n",
       "      <td>Carlos Pasquali;Jorge Andrade</td>\n",
       "      <td>Task</td>\n",
       "      <td>Done</td>\n",
       "      <td>29/08/2023 06:27:08</td>\n",
       "      <td>05/09/2023 06:10:21</td>\n",
       "      <td>Yan Fagundes</td>\n",
       "    </tr>\n",
       "    <tr>\n",
       "      <th>2</th>\n",
       "      <td>SA-4323</td>\n",
       "      <td>SA-2</td>\n",
       "      <td>Dashboard | Pessoal | Números | Atendimentos</td>\n",
       "      <td>Jean Carlos;Luiz Gustavo</td>\n",
       "      <td>Task</td>\n",
       "      <td>Done</td>\n",
       "      <td>22/08/2023 11:16:31</td>\n",
       "      <td>22/09/2023 13:04:28</td>\n",
       "      <td>Yan Fagundes</td>\n",
       "    </tr>\n",
       "    <tr>\n",
       "      <th>3</th>\n",
       "      <td>SA-4322</td>\n",
       "      <td>SA-2</td>\n",
       "      <td>Dashboard | Gestor(a) | Números | Atendimentos</td>\n",
       "      <td>Jean Carlos;Luiz Gustavo</td>\n",
       "      <td>Task</td>\n",
       "      <td>Done</td>\n",
       "      <td>22/08/2023 11:16:18</td>\n",
       "      <td>22/09/2023 13:04:30</td>\n",
       "      <td>Yan Fagundes</td>\n",
       "    </tr>\n",
       "    <tr>\n",
       "      <th>4</th>\n",
       "      <td>SA-4307</td>\n",
       "      <td>SA-2</td>\n",
       "      <td>Dashboard | Pessoal | Números | Pacientes aten...</td>\n",
       "      <td>Jean Carlos;Luiz Gustavo</td>\n",
       "      <td>Task</td>\n",
       "      <td>Done</td>\n",
       "      <td>22/08/2023 04:37:43</td>\n",
       "      <td>22/09/2023 13:03:34</td>\n",
       "      <td>Yan Fagundes</td>\n",
       "    </tr>\n",
       "  </tbody>\n",
       "</table>\n",
       "</div>"
      ],
      "text/plain": [
       "       key  parent                                            summary   \n",
       "0  SA-4464    SA-3  Produção | Expedição | Lotes | Classificação d...  \\\n",
       "1  SA-4353  SA-117  Dashboard | Linha do tempo - Manutenções | Alt...   \n",
       "2  SA-4323    SA-2       Dashboard | Pessoal | Números | Atendimentos   \n",
       "3  SA-4322    SA-2     Dashboard | Gestor(a) | Números | Atendimentos   \n",
       "4  SA-4307    SA-2  Dashboard | Pessoal | Números | Pacientes aten...   \n",
       "\n",
       "                            devs issue_type status              created   \n",
       "0  Carlos Pasquali;Jorge Andrade       Task   Done  13/09/2023 05:41:49  \\\n",
       "1  Carlos Pasquali;Jorge Andrade       Task   Done  29/08/2023 06:27:08   \n",
       "2       Jean Carlos;Luiz Gustavo       Task   Done  22/08/2023 11:16:31   \n",
       "3       Jean Carlos;Luiz Gustavo       Task   Done  22/08/2023 11:16:18   \n",
       "4       Jean Carlos;Luiz Gustavo       Task   Done  22/08/2023 04:37:43   \n",
       "\n",
       "              resolved          creator  \n",
       "0  18/09/2023 12:24:42  Donavan Marques  \n",
       "1  05/09/2023 06:10:21     Yan Fagundes  \n",
       "2  22/09/2023 13:04:28     Yan Fagundes  \n",
       "3  22/09/2023 13:04:30     Yan Fagundes  \n",
       "4  22/09/2023 13:03:34     Yan Fagundes  "
      ]
     },
     "execution_count": 58,
     "metadata": {},
     "output_type": "execute_result"
    }
   ],
   "source": [
    "dadosMainFields = dadosMainFields.drop(columns=['assignee', 'designer', 'story_point_estimate'])\n",
    "dadosMainFields.head()"
   ]
  },
  {
   "cell_type": "code",
   "execution_count": 59,
   "metadata": {},
   "outputs": [
    {
     "data": {
      "text/html": [
       "<div>\n",
       "<style scoped>\n",
       "    .dataframe tbody tr th:only-of-type {\n",
       "        vertical-align: middle;\n",
       "    }\n",
       "\n",
       "    .dataframe tbody tr th {\n",
       "        vertical-align: top;\n",
       "    }\n",
       "\n",
       "    .dataframe thead th {\n",
       "        text-align: right;\n",
       "    }\n",
       "</style>\n",
       "<table border=\"1\" class=\"dataframe\">\n",
       "  <thead>\n",
       "    <tr style=\"text-align: right;\">\n",
       "      <th></th>\n",
       "      <th>key</th>\n",
       "      <th>parent</th>\n",
       "      <th>summary</th>\n",
       "      <th>devs</th>\n",
       "      <th>issue_type</th>\n",
       "      <th>status</th>\n",
       "      <th>created</th>\n",
       "      <th>resolved</th>\n",
       "      <th>creator</th>\n",
       "    </tr>\n",
       "  </thead>\n",
       "  <tbody>\n",
       "    <tr>\n",
       "      <th>0</th>\n",
       "      <td>SA-4464</td>\n",
       "      <td>SA-3</td>\n",
       "      <td>Produção | Expedição | Lotes | Classificação d...</td>\n",
       "      <td>Carlos Pasquali;Jorge Andrade</td>\n",
       "      <td>Task</td>\n",
       "      <td>Done</td>\n",
       "      <td>13/09/2023 05:41:49</td>\n",
       "      <td>18/09/2023 12:24:42</td>\n",
       "      <td>Donavan Marques</td>\n",
       "    </tr>\n",
       "    <tr>\n",
       "      <th>1</th>\n",
       "      <td>SA-4353</td>\n",
       "      <td>SA-117</td>\n",
       "      <td>Dashboard | Linha do tempo - Manutenções | Alt...</td>\n",
       "      <td>Carlos Pasquali;Jorge Andrade</td>\n",
       "      <td>Task</td>\n",
       "      <td>Done</td>\n",
       "      <td>29/08/2023 06:27:08</td>\n",
       "      <td>05/09/2023 06:10:21</td>\n",
       "      <td>Yan Fagundes</td>\n",
       "    </tr>\n",
       "    <tr>\n",
       "      <th>2</th>\n",
       "      <td>SA-4323</td>\n",
       "      <td>SA-2</td>\n",
       "      <td>Dashboard | Pessoal | Números | Atendimentos</td>\n",
       "      <td>Jean Carlos;Luiz Gustavo</td>\n",
       "      <td>Task</td>\n",
       "      <td>Done</td>\n",
       "      <td>22/08/2023 11:16:31</td>\n",
       "      <td>22/09/2023 13:04:28</td>\n",
       "      <td>Yan Fagundes</td>\n",
       "    </tr>\n",
       "    <tr>\n",
       "      <th>3</th>\n",
       "      <td>SA-4322</td>\n",
       "      <td>SA-2</td>\n",
       "      <td>Dashboard | Gestor(a) | Números | Atendimentos</td>\n",
       "      <td>Jean Carlos;Luiz Gustavo</td>\n",
       "      <td>Task</td>\n",
       "      <td>Done</td>\n",
       "      <td>22/08/2023 11:16:18</td>\n",
       "      <td>22/09/2023 13:04:30</td>\n",
       "      <td>Yan Fagundes</td>\n",
       "    </tr>\n",
       "    <tr>\n",
       "      <th>4</th>\n",
       "      <td>SA-4307</td>\n",
       "      <td>SA-2</td>\n",
       "      <td>Dashboard | Pessoal | Números | Pacientes aten...</td>\n",
       "      <td>Jean Carlos;Luiz Gustavo</td>\n",
       "      <td>Task</td>\n",
       "      <td>Done</td>\n",
       "      <td>22/08/2023 04:37:43</td>\n",
       "      <td>22/09/2023 13:03:34</td>\n",
       "      <td>Yan Fagundes</td>\n",
       "    </tr>\n",
       "    <tr>\n",
       "      <th>...</th>\n",
       "      <td>...</td>\n",
       "      <td>...</td>\n",
       "      <td>...</td>\n",
       "      <td>...</td>\n",
       "      <td>...</td>\n",
       "      <td>...</td>\n",
       "      <td>...</td>\n",
       "      <td>...</td>\n",
       "      <td>...</td>\n",
       "    </tr>\n",
       "    <tr>\n",
       "      <th>1096</th>\n",
       "      <td>SA-147</td>\n",
       "      <td>SA-115</td>\n",
       "      <td>Backoffice | Vendas | Visualiza vendas de cursos</td>\n",
       "      <td>Jean Carlos;Luiz Gustavo</td>\n",
       "      <td>Task</td>\n",
       "      <td>Done</td>\n",
       "      <td>10/10/2022 06:30:34</td>\n",
       "      <td>23/01/2023 04:31:59</td>\n",
       "      <td>Automation for Jira</td>\n",
       "    </tr>\n",
       "    <tr>\n",
       "      <th>1097</th>\n",
       "      <td>SA-146</td>\n",
       "      <td>SA-115</td>\n",
       "      <td>Backoffice | Vendas | Filtros de vendas</td>\n",
       "      <td>Jean Carlos;Luiz Gustavo</td>\n",
       "      <td>Task</td>\n",
       "      <td>Done</td>\n",
       "      <td>10/10/2022 06:30:36</td>\n",
       "      <td>23/01/2023 04:31:31</td>\n",
       "      <td>Automation for Jira</td>\n",
       "    </tr>\n",
       "    <tr>\n",
       "      <th>1098</th>\n",
       "      <td>SA-145</td>\n",
       "      <td>SA-115</td>\n",
       "      <td>Plataforma | Cursos disponíveis | Comprar curso</td>\n",
       "      <td>Jean Carlos;Luiz Gustavo</td>\n",
       "      <td>Task</td>\n",
       "      <td>Done</td>\n",
       "      <td>10/10/2022 06:29:43</td>\n",
       "      <td>27/02/2023 03:37:15</td>\n",
       "      <td>Automation for Jira</td>\n",
       "    </tr>\n",
       "    <tr>\n",
       "      <th>1099</th>\n",
       "      <td>SA-144</td>\n",
       "      <td>SA-115</td>\n",
       "      <td>Plataforma | LandingPage | Home/Cursos</td>\n",
       "      <td>Jean Carlos;Luiz Gustavo</td>\n",
       "      <td>Task</td>\n",
       "      <td>Done</td>\n",
       "      <td>14/10/2022 06:37:11</td>\n",
       "      <td>23/01/2023 04:31:51</td>\n",
       "      <td>Automation for Jira</td>\n",
       "    </tr>\n",
       "    <tr>\n",
       "      <th>1100</th>\n",
       "      <td>SA-143</td>\n",
       "      <td>SA-115</td>\n",
       "      <td>Backoffice | Usuários | Liberar/bloquear acess...</td>\n",
       "      <td>Jean Carlos;Luiz Gustavo</td>\n",
       "      <td>Task</td>\n",
       "      <td>Done</td>\n",
       "      <td>10/10/2022 06:29:58</td>\n",
       "      <td>23/01/2023 04:31:47</td>\n",
       "      <td>Automation for Jira</td>\n",
       "    </tr>\n",
       "  </tbody>\n",
       "</table>\n",
       "<p>1101 rows × 9 columns</p>\n",
       "</div>"
      ],
      "text/plain": [
       "          key  parent                                            summary   \n",
       "0     SA-4464    SA-3  Produção | Expedição | Lotes | Classificação d...  \\\n",
       "1     SA-4353  SA-117  Dashboard | Linha do tempo - Manutenções | Alt...   \n",
       "2     SA-4323    SA-2       Dashboard | Pessoal | Números | Atendimentos   \n",
       "3     SA-4322    SA-2     Dashboard | Gestor(a) | Números | Atendimentos   \n",
       "4     SA-4307    SA-2  Dashboard | Pessoal | Números | Pacientes aten...   \n",
       "...       ...     ...                                                ...   \n",
       "1096   SA-147  SA-115   Backoffice | Vendas | Visualiza vendas de cursos   \n",
       "1097   SA-146  SA-115            Backoffice | Vendas | Filtros de vendas   \n",
       "1098   SA-145  SA-115    Plataforma | Cursos disponíveis | Comprar curso   \n",
       "1099   SA-144  SA-115             Plataforma | LandingPage | Home/Cursos   \n",
       "1100   SA-143  SA-115  Backoffice | Usuários | Liberar/bloquear acess...   \n",
       "\n",
       "                               devs issue_type status              created   \n",
       "0     Carlos Pasquali;Jorge Andrade       Task   Done  13/09/2023 05:41:49  \\\n",
       "1     Carlos Pasquali;Jorge Andrade       Task   Done  29/08/2023 06:27:08   \n",
       "2          Jean Carlos;Luiz Gustavo       Task   Done  22/08/2023 11:16:31   \n",
       "3          Jean Carlos;Luiz Gustavo       Task   Done  22/08/2023 11:16:18   \n",
       "4          Jean Carlos;Luiz Gustavo       Task   Done  22/08/2023 04:37:43   \n",
       "...                             ...        ...    ...                  ...   \n",
       "1096       Jean Carlos;Luiz Gustavo       Task   Done  10/10/2022 06:30:34   \n",
       "1097       Jean Carlos;Luiz Gustavo       Task   Done  10/10/2022 06:30:36   \n",
       "1098       Jean Carlos;Luiz Gustavo       Task   Done  10/10/2022 06:29:43   \n",
       "1099       Jean Carlos;Luiz Gustavo       Task   Done  14/10/2022 06:37:11   \n",
       "1100       Jean Carlos;Luiz Gustavo       Task   Done  10/10/2022 06:29:58   \n",
       "\n",
       "                 resolved              creator  \n",
       "0     18/09/2023 12:24:42      Donavan Marques  \n",
       "1     05/09/2023 06:10:21         Yan Fagundes  \n",
       "2     22/09/2023 13:04:28         Yan Fagundes  \n",
       "3     22/09/2023 13:04:30         Yan Fagundes  \n",
       "4     22/09/2023 13:03:34         Yan Fagundes  \n",
       "...                   ...                  ...  \n",
       "1096  23/01/2023 04:31:59  Automation for Jira  \n",
       "1097  23/01/2023 04:31:31  Automation for Jira  \n",
       "1098  27/02/2023 03:37:15  Automation for Jira  \n",
       "1099  23/01/2023 04:31:51  Automation for Jira  \n",
       "1100  23/01/2023 04:31:47  Automation for Jira  \n",
       "\n",
       "[1101 rows x 9 columns]"
      ]
     },
     "execution_count": 59,
     "metadata": {},
     "output_type": "execute_result"
    }
   ],
   "source": [
    "dadosMainFields"
   ]
  },
  {
   "cell_type": "code",
   "execution_count": 60,
   "metadata": {},
   "outputs": [],
   "source": [
    "dadosMainFields.to_csv('../data/dados_limpos.csv', index=False)"
   ]
  }
 ],
 "metadata": {
  "kernelspec": {
   "display_name": "Python 3",
   "language": "python",
   "name": "python3"
  },
  "language_info": {
   "codemirror_mode": {
    "name": "ipython",
    "version": 3
   },
   "file_extension": ".py",
   "mimetype": "text/x-python",
   "name": "python",
   "nbconvert_exporter": "python",
   "pygments_lexer": "ipython3",
   "version": "3.11.3"
  },
  "orig_nbformat": 4
 },
 "nbformat": 4,
 "nbformat_minor": 2
}
