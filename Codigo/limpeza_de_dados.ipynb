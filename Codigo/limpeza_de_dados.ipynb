{
 "cells": [
  {
   "cell_type": "markdown",
   "metadata": {},
   "source": [
    "# DataScience - Projeto ADA\n",
    "\n",
    "#### Integrantes\n",
    "- Eduardo Chimchek Jeronimo\n",
    "- Gabriel Rosso\n",
    "- João Augusto da silva borges\n",
    "- Josiane Rodrigues"
   ]
  }
 ],
 "metadata": {
  "language_info": {
   "name": "python"
  },
  "orig_nbformat": 4
 },
 "nbformat": 4,
 "nbformat_minor": 2
}
