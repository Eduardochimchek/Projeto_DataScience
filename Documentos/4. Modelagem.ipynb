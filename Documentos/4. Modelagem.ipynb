{
 "cells": [
  {
   "cell_type": "markdown",
   "metadata": {
    "collapsed": true,
    "pycharm": {
     "name": "#%% md\n"
    }
   },
   "source": [
    "# Fase 4 - Modelagem\n",
    "\n",
    "Nessa fase, várias técnicas de modelagem são selecionadas e aplicadas, e o seus parâmetros são calibrados para otimizar os valores. Tipicamente, existem várias técnicas para cobrir o mesmo problema. Algumas técnicas seguem requisitam que os dados estejam especificados de uma determinada forma. Sendo assim, voltar a etapa de preparação dos dados é necessária eventualmente."
   ]
  },
  {
   "attachments": {},
   "cell_type": "markdown",
   "metadata": {},
   "source": [
    "## 4.1 Selecionar Técnicas de Modelagem\n",
    "\n",
    "### 4.1.1 Tarefa\n",
    "\n",
    "No primeiro passo da modelagem devemos selecionar a técnica de modelagem que será utilizada. Contudo, você pode ter já escolhido alguma ferramenta durante a fase de entendimento do negócio, essa atividade se refere à técnicas específicas de modelagem.\n",
    "\n",
    "### 4.1.2 Saída\n",
    "\n",
    "#### 4.1.2.1 Técnicas de Modelagem\n",
    "\n",
    "XGBoost: O XGBoost é uma biblioteca de aprendizado de máquina eficiente e escalável que se destaca em tarefas de classificação e regressão. Ele utiliza a técnica de gradient boosting para combinar predições de vários modelos mais fracos, criando um modelo robusto e preciso. \n",
    "\n",
    "#### 4.1.2.2 Percepções da Modelagem\n",
    "\n",
    "A escolha do XGBoost como técnica de modelagem é respaldada pela sua notável eficiência em lidar com dados binários, particularmente na previsão da variável \"sprintxDevs\". Sua capacidade de lidar com relações não lineares, incorporar regularização para evitar overfitting, tratamento eficiente de dados ausentes e desempenho comprovado em competições de aprendizado de máquina fazem do XGBoost uma escolha sólida. Sua robustez em grandes conjuntos de dados garante que o modelo mantenha uma precisão consistente, mesmo em cenários complexos, proporcionando uma ferramenta confiável para a previsão binária desejada."
   ]
  },
  {
   "attachments": {},
   "cell_type": "markdown",
   "metadata": {},
   "source": [
    "## 4.2 Gerando um Plano de Testes\n",
    "\n",
    "### 4.2.1 Tarefa\n",
    "\n",
    "Antes de finalmente construir um modelo, nós garantimos uma função ou algum mecanismo para testar o modelo, tanto em sua qualidade, quanto em sua validação.\n",
    "\n",
    "### 4.2.2 Saída\n",
    "\n",
    "4.2.2.1 Desenvolvedores Selecionados\n",
    "\n",
    "Para este teste, foram escolhidos os seguintes pares de desenvolvedores:\n",
    "\n",
    "Luiz Gustavo vs Jorge Andrade\n",
    "Luiz Gustavo vs Thiago Meller Casagrande\n",
    "\n",
    "4.2.2.2 Análise Estatística\n",
    "\n",
    "Resultado do Teste para Tempos de Resolução:\n",
    "\n",
    "Luiz Gustavo vs Jorge Andrade:\n",
    "Aceitar a hipótese nula - não há evidências suficientes para afirmar uma diferença significativa nos tempos de resolução.\n",
    "\n",
    "Luiz Gustavo vs Thiago Meller Casagrande:\n",
    "Rejeitar a hipótese nula - há uma diferença significativa nos tempos de resolução.\n",
    "\n",
    "Resultado do Teste para Total de Sprints:\n",
    "\n",
    "Luiz Gustavo vs Jorge Andrade:\n",
    "Aceitar a hipótese nula - não há evidências suficientes para afirmar uma diferença significativa no número total de sprints.\n",
    "\n",
    "Luiz Gustavo vs Thiago Meller Casagrande:\n",
    "Aceitar a hipótese nula - não há evidências suficientes para afirmar uma diferença significativa no número total de sprints.\n",
    "\n",
    "4.2.2.3 Visualização Gráfica\n",
    "\n",
    "Os gráficos abaixo apresentam a comparação entre os desenvolvedores para os parâmetros analisados.\n",
    "\n",
    "![Teste01](../Imagens/teste01.jpg)\n",
    "\n",
    "*Figura 1: Comparação de Tempos de Resolução e Total de Sprints entre Luiz Gustavo e Jorge Andrade.*\n",
    "\n",
    "\n",
    "![Teste02](../Imagens/teste02.jpg)\n",
    "\n",
    "*Figura 2: Comparação de Tempos de Resolução e Total de Sprints entre Luiz Gustavo e Thiago Meller Casagrande.*\n",
    "\n",
    "4.2.2.4 Interpretação dos Resultados\n",
    "\n",
    "Os resultados indicam variações significativas nos tempos de resolução entre Luiz Gustavo e Thiago Meller Casagrande. No entanto, não há diferenças significativas no total de sprints entre Luiz Gustavo, Jorge Andrade, e Thiago Meller Casagrande. Essas conclusões são fundamentadas nos testes de Mann-Whitney U e nos valores-p associados.\n",
    "\n",
    "\n",
    "Observações: toda lógica realizado nesses testes estão no arquivo de código chamado 'teste_de_dados.ipynb'\n",
    "\n"
   ]
  },
  {
   "attachments": {},
   "cell_type": "markdown",
   "metadata": {},
   "source": [
    "## 4.3 Construção dos Modelos\n",
    "\n",
    "### 4.3.1 Tarefa\n",
    "\n",
    "Rodar a ferramenta de modelagem no dataset preparado para criar um ou mais modelos.\n",
    "\n",
    "### 4.3.2 Saída\n",
    "\n",
    "Vamos aplicar os conhecimentos adquiridos em XGBOOST para realizar a análise de sentimentos nos dados. Isso envolverá a configuração cuidadosa dos parâmetros do XGBOOST, considerando a natureza específica do problema.\n",
    "\n",
    "#### 4.3.2.1 Configuação dos Parâmetros\n",
    "\n",
    "A configuração do XGBOOST será detalhada aqui, destacando os parâmetros específicos escolhidos com base no entendimento obtido durante as aulas de data mining.\n",
    "\n",
    "#### 4.3.2.2 Modelos\n",
    "\n",
    "Além do XGBOOST, podemos explorar outras técnicas de modelagem multidimensional, aplicando conceitos de Sistemas de Recomendação. A combinação de abordagens pode resultar em insights mais profundos e em modelos mais robustos.\n",
    "\n",
    "#### 4.3.2.3 Descrições dos Modelos\n",
    "\n",
    "A análise de sentimentos, inspirada nos conceitos estatísticos e nas técnicas de XGBOOST, será detalhadamente descrita nesta seção. Vamos avaliar métricas específicas, como precisão e recall, e considerar as implicações práticas dos resultados obtidos."
   ]
  },
  {
   "cell_type": "markdown",
   "metadata": {},
   "source": [
    "## 4.4 Avaliando os Modelos\n",
    "\n",
    "### 4.4.1 Tarefa\n",
    "\n",
    "Interpretar os modelos de acordo com o conhecimento e domínio disponíveis, critérios de sucesso do negócio e planos de testes. O sucesso da modelagem e técnicas de descobertas devem ser julgados tecnicamente.\n",
    "Os modelos precisam ser avalidados de acordo com os seus critérios, e ordenados em relação à cada um.\n",
    "\n",
    "### 4.4.2 Saída\n",
    "\n",
    "#### 4.4.2.1 Avaliação dos Modelos\n",
    "\n",
    "--\n",
    "\n",
    "#### 4.4.2.2 Revisão dos Parâmetros\n",
    "\n",
    "--"
   ]
  }
 ],
 "metadata": {
  "kernelspec": {
   "display_name": "Python 3 (ipykernel)",
   "language": "python",
   "name": "python3"
  },
  "language_info": {
   "codemirror_mode": {
    "name": "ipython",
    "version": 3
   },
   "file_extension": ".py",
   "mimetype": "text/x-python",
   "name": "python",
   "nbconvert_exporter": "python",
   "pygments_lexer": "ipython3",
   "version": "3.9.7"
  }
 },
 "nbformat": 4,
 "nbformat_minor": 1
}
