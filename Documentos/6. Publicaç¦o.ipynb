{
 "cells": [
  {
   "cell_type": "markdown",
   "metadata": {
    "collapsed": true,
    "pycharm": {
     "name": "#%% md\n"
    }
   },
   "source": [
    "# Fase 6 - Publicação\n",
    "\n",
    "A criação de um modelo não é geralmente o final do projeto. Mesmo se o propósito do modelo é aumentar o conhecimento sobre os dados, o conhecimento adquirido necessitará ser organizado e apresentado de um jeito que o consumidor possa utilizá-lo. Geralmente isso envolver aplicar modelos \"ao vivo\" em conjunto com o processo de tomada de decisões da empresa. Dependendo dos requisitos, a fase de publicação pode ser simples como um relatório ou complexa como a implementação de um processo recorrente pela empresa. Em muitos casos, é o consumidor, não o desenvolvedor, quem se responsabilizará pelo processo de publicação. Contudo, mesmo se o desenvolvedor irá realizar a publicação, é importante para o consumidor entender de imediato que ações precisarão ser realizadas em função de realmente se fazer uso dos modelos criados."
   ]
  },
  {
   "cell_type": "markdown",
   "metadata": {},
   "source": [
    "## 6.1 Plano de Publicação\n",
    "\n",
    "### 6.1.1 Tarefa\n",
    "\n",
    "Essa atividade pega o resultados da avaliação e determina uma estratégia para a publicação. Se um procedimento foi identificado para criar o modelo, esse procedimento é documentado aqui para a futura publicação.\n",
    "\n",
    "### 6.1.2 Saída\n",
    "\n",
    "#### 6.1.2.1 Plano de Publicação\n",
    "\n",
    "Para otimizar a produção de software na empresa do cliente, focalizando na coluna \"devs_\" do seu conjunto de dados. Acreditamos que, ao utilizar o número de sprints como métrica central, podemos aprimorar significativamente a eficiência do processo de desenvolvimento da empresa.\n",
    "\n",
    "Então para realizar tal otimização, fizemos uma abordagem mais estratégica e orientada por dados para gerenciar as equipes de desenvolvimento. A proposta visa aproveitar as informações contidas na coluna \"devs_\" para determinar a quantidade ideal de sprints, otimizando assim a produtividade e a entrega de projetos.\n",
    "\n",
    "Benefícios:\n",
    "\n",
    "Otimização de Recursos:\n",
    "Ao analisar a distribuição dos sprints entre os membros da equipe (devs_), podemos identificar padrões que indicam as alocações mais eficientes de recursos, reduzindo gargalos e maximizando a capacidade de entrega.\n",
    "\n",
    "Previsão de Capacidade:\n",
    "Utilizando dados históricos, podemos prever com maior precisão o número ideal de sprints para cada equipe, garantindo uma distribuição equilibrada de trabalho e evitando sobrecargas.\n",
    "\n",
    "Identificação de Tendências:\n",
    "A análise ao longo do tempo permitirá a identificação de tendências sazonais ou padrões de comportamento que afetam diretamente a produção. Isso possibilitará ajustes proativos para lidar com possíveis desafios antes que impactem negativamente os prazos de entrega."
   ]
  },
  {
   "cell_type": "markdown",
   "metadata": {},
   "source": [
    "## 6.2 Plano de Monitoramento e Manutenção\n",
    "\n",
    "### 6.2.1 Tarefa\n",
    "\n",
    "Monitorar e realizar manutenções são importantes atividades se o resultado do modelo se tornar parte do dia-a-dia da área de negócio e seu ambiente. Em razão à monitorar o desenvolvimento dos resultados do modelo, o projeto precisa de um detalhado processo de monitoramento.\n",
    "\n",
    "\n",
    "### 6.2.2 Saída\n",
    "\n",
    "#### 6.2.2.1 Plano de Monitoramento e Manutenção\n",
    "\n",
    "A princípio o plano de monitoramento e continuidade do projeto pode ser feito a partir da inserção de novos dados, esses dados precisam ser antes de utilizados, ser limpos e livrar -se de quaisquer inconsistências presentes. Determinado esses passos iniciais o modelo pode ser implantado e continuado passando para padrões binários e eliminando qualquer erro na nomenclatura das tabelas.\n",
    "Feito os passos iniciais agora basta fazer pequenas alterações determinando qual o novo desenvolvedor a ser acrescentado ou agregando mais informações e enriquecendo a base de dados antiga do desenvolvedor."
   ]
  },
  {
   "cell_type": "markdown",
   "metadata": {},
   "source": [
    "## 6.3 Relatório Final\n",
    "\n",
    "### 6.3.1 Tarefa\n",
    "\n",
    "Ao fim desse projeto, o time de projeto escreve um relatório final. Dependendo do plano de publicação, esse relatório pode ser apenas um sumário do projeto e suas experiências (se eles não foram ainda documentados como uma atividade em andamento) ou pode ser uma apresentação final após os resultados analíticos.\n",
    "\n",
    "### 6.3.2 Saída\n",
    "\n",
    "#### 6.3.2.1 Relatório Final\n",
    "\n",
    "Inicialmente tudo começou com entrega da base de dados , com as informações em mãos foi partido para limpeza dos dados, onde removemos todos os campos nulos, além de juntar tabelas por conta que foram disponibilizados 2 datasets, foram tirados também colunas que apresentavam equipes de programadores pois o intuito era realçar os tempos de previsão das sprints dos desenvolvedores individualmente.\n",
    "Iniciando a fase de modelagem foram então passadas as colunas para binários pois o modelo só aceita números binários para que não haja nenhum problema de identificação do dataset. Foi utilizado o teste de hipótese Mann Whitney U onde foi possível avaliar estaticamente o tempo de resolução e o total de sprints de dois programadores, comparando assim o tempo de 2 programadores. Partindo para a execução do XGBOOST, simplesmente foi feito a partir do modelo aprendido em sala de aula, onde primeiramente foi alimentado com os dados dando um gráfico de correlação, medindo a importância do desenvolvedor estudado com as variáveis do dataset. Logo após essa etapa foi feito o aprendizado onde foi dividido os dados que eram treinados com os dados utilizados na previsão, inicialmente havia o resultado de 90% de aprendizado do modelo. Então finalmente foi feito o gráfico de comparação entre o tempo e o tempo previsto dos desenvolvedores nas sprints, isso foi feito para os 6 desenvolvedores listados no dataset.\n",
    "A etapa final do projeto ficou responsável pelos ajustes dos modelos, onde foram modificadas algumas variáveis, mas sem sucesso, além do teste de precisão RMSE. Inicialmente o RMSE resultante foi muito alto, então como alternativa ajustamos os outliers, conseguindo assim diminuir muito o  valor do RMSE, isso custou 10 pontos na taxa de aprendizado do modelo mas que compensou pelo resultado final, que foi de 80%.\n",
    "Algumas ideias para o futuro seria continuar alimentando com mais informações o modelo, aumentando sua precisão além de acrescentar a ideia de separação de dados de desenvolvedores específicos, aumentando assim a eficiência do modelo e consequentemente também a precisão. Outro ponto também seria expandir para outros setores da empresa. O XGBOOST é modelo de machine learning muito versátil e pode se encaixar em outros seguimentos.s\n",
    "\n",
    "#### 6.3.2.2 Final presentation\n"
   ]
  },
  {
   "cell_type": "markdown",
   "metadata": {},
   "source": [
    "## 6.4 Revisão do Projeto\n",
    "\n",
    "### 6.4.1 Tarefa\n",
    "\n",
    "Avalie o que foi correto e o que foi errado, o que foi feito de forma perfeita e o que precisa ser melhorado.\n",
    "\n",
    "### 6.4.2 Saída\n",
    "\n",
    "#### 6.4.2.1 Documentação da Experiência\n",
    "\n",
    "Um ponto importante que foi falho foi identificar os outliers, infelizmente o RMSE ao final do trabalho foi muito alto e foi necessário fazer um ajuste mesmo com o modelo pronto, isso teria sido evitado caso feito na fase inicial do projeto. Outro a melhorar foi a falta de se expressar corretamente na documentação muitos pontos foram deixados de comentar e comentar mais profundamente sobre o assunto.\n",
    "Pontos positivos do projeto foram a taxa relativamente alta de aprendizado do modelo que comparado com o tamanho do dataset disponibilizado foi alto, além da redução do valor do RMSE com os ajustes do modelo."
   ]
  }
 ],
 "metadata": {
  "kernelspec": {
   "display_name": "Python 3 (ipykernel)",
   "language": "python",
   "name": "python3"
  },
  "language_info": {
   "codemirror_mode": {
    "name": "ipython",
    "version": 3
   },
   "file_extension": ".py",
   "mimetype": "text/x-python",
   "name": "python",
   "nbconvert_exporter": "python",
   "pygments_lexer": "ipython3",
   "version": "3.9.13"
  }
 },
 "nbformat": 4,
 "nbformat_minor": 1
}
