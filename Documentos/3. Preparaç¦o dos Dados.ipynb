{
 "cells": [
  {
   "cell_type": "markdown",
   "metadata": {
    "pycharm": {
     "name": "#%% md\n"
    }
   },
   "source": [
    "Nome equipe: Josiane Rodrigues, João Augusto da Silva Borges, Gabriel Rosso, Eduardo Chimchek Jeronimo"
   ]
  },
  {
   "cell_type": "markdown",
   "metadata": {},
   "source": [
    "# Fase 3. Preparação dos Dados\n",
    "\n",
    "A fase de preparação dos dados cobre todas as atividades necessárias para construir o dataset final (os dados que irão alimentar o algoritmo) partindo dos dados crus. Tarefas de preparação de dados são geralmente realizadas mais de uma vez e não necessariamente em uma determinada ordem. As tarefas incluem tabular, gravar, selecionar variáveis, assim como limpeza e transformação de dados para as ferramentas de modelagem."
   ]
  },
  {
   "cell_type": "markdown",
   "metadata": {},
   "source": [
    "## 3.1 Seleção dos Dados\n",
    "\n",
    "### 3.1.1 Tarefa\n",
    "\n",
    "Decidir os dados que serão utilizados para a análise.\n",
    "\n",
    "### 3.1.2 Saída\n",
    "Após verificação dos dados disponíveis, foi decidido que os dados analisados serão as atividades relacionadas aos devs, o tipo de problema, a quantidade de Sprints para a solução do problema e o tempo de resolução\n",
    "\n",
    "#### 3.1.2.1 Racional para Inclusão/Exclusão\n",
    "\n",
    "--"
   ]
  },
  {
   "cell_type": "markdown",
   "metadata": {},
   "source": [
    "## 3.2 Limpeza dos Dados\n",
    "\n",
    "### 3.2.1 Tarefa\n",
    "\n",
    "\n",
    "### 3.2.2 Saída\n",
    "\n",
    "Foi realizado a limpeza dos dados com a seguintes condiçãoes, se a coluna de começo de resolução estivesse vazio e a fim de resolução também o registro era excluido, isso foi feito\n",
    ", pois, queremos utilizar dados de atividades realizadas que já foram concluidas, pois com atividades não concluídas os dados ficam mais dificil de prever.\n",
    "Também foi realizado a limpeza dos registro que eram não nulos com valores de designer, pois, queriamos apenas as atividades com sprints relacionadas aos devs, então todos registros que haviam data start e end dos designers foram dropadas, com isso ficamos com apenas registros dos devs, atividades, tempos e suas sprints.\n",
    "\n",
    "\n",
    "#### 3.2.2.1 Relatório de Limpeza de Dados\n",
    "\n",
    "--"
   ]
  },
  {
   "cell_type": "markdown",
   "metadata": {},
   "source": [
    "## 3.3 Construção dos Dados\n",
    "\n",
    "### 3.3.1 Tarefa\n",
    "\n",
    "\n",
    "\n",
    "### 3.3.2 Saída\n",
    "\n",
    "Havia 2 colunas que eram chamadas de \"startresolution\" e \"endresolution\" elas determinam quando começou e quando terminou a atividade realizada, nós contruimos a partir destas 2 colunas\n",
    "uma nova chamada de \"tempo_resolucao\", o valor desta coluna é a diferença de tempo em segundos entre as duas data a de start e a end, então com isso resultou em uma coluna com valores inteiros que é tempo_resolucao em segundos, também contruimos a partir de uma coluna \"sprint\", uma nova coluna chamada de \"total_sprints\" que é literalmente o total de sprint daquela atividade, as atividades podem ter 1 ou mais sprints por registro, quando tem mais de uma ela é separada por \";\" dentro do registro, exemplo: \"sprint1;sprint2;sprint3\", utilizando o conjunto de 3 sprints em um registro do exemplo anterior a novo coluna correspondente a este exemplo seria de \"3\", pois, há 3 sprints dentro daquele registro.\n",
    "\n",
    "#### 3.3.2.1 Variáveis Derivadas\n",
    "\n",
    "--\n",
    "    \n",
    "\n",
    "#### 3.3.2.2 Dados Gerados\n",
    "\n",
    "--"
   ]
  },
  {
   "cell_type": "markdown",
   "metadata": {},
   "source": [
    "## 3.4 Integrar os Dados\n",
    "\n",
    "### 3.4.1 Tarefas\n",
    "\n",
    "Essa é a etapa onde as informações são combinadas das múltiplas tabelas ou registros, para criar novos registros ou valores.\n",
    "\n",
    "### 3.4.2 Saída\n",
    "\n",
    "Examinando os dados, percebemos que algumas colunas constam dados que poderiam ser unidos, estas que são os tempos iniciais e finais das tarefas que irão se tornar uma só. Então calculamos a diferença entre elas e criamos uma coluna a tempo de resolução('tempo_resolucao') e a coluna de total de sprints, para melhorar o desenvolvimento do projeto, estas são:\n",
    "'DesignEndTaskDate' = Data de término da parte do designer.\n",
    "'DesignStartTaskDate' = Data de início da parte do designer.\n",
    "'EndResolution' = Fim da resolução da atividade.\n",
    "'StartResolution' = Início da resolução da atividade.\n",
    "\n",
    "#### 3.4.2.1 Dados Combinados\n",
    "\n",
    "--"
   ]
  },
  {
   "cell_type": "markdown",
   "metadata": {},
   "source": [
    "## 3.5 Formatação dos Dados\n",
    "\n",
    "### 3.5.1 Tarefa\n",
    "\n",
    "Transformações para formatos referem-se a modificações sintáticas primárias feitas nos dados para eles não mudarem seu significado, porém para realizadas para atender a ferramenta em questão.\n",
    "\n",
    "### 3.5.2 Saída\n",
    "As únicas mudanças feitas nos dados, foi a transformações para binários utilizando a função get_dummies, das colunas devs, taks e assignee, sendo que foram transformados para binários pois o código não reconhece strings, além que posam ser dado o mesmo peso no código rodado ,não tendo discrepância por variáveis aleatórias numéricas.\n",
    "\n",
    "#### 3.5.2.1  Dados Reformatados\n",
    "\n",
    "--"
   ]
  }
 ],
 "metadata": {
  "kernelspec": {
   "display_name": "Python 3 (ipykernel)",
   "language": "python",
   "name": "python3"
  },
  "language_info": {
   "codemirror_mode": {
    "name": "ipython",
    "version": 3
   },
   "file_extension": ".py",
   "mimetype": "text/x-python",
   "name": "python",
   "nbconvert_exporter": "python",
   "pygments_lexer": "ipython3",
   "version": "3.9.7"
  }
 },
 "nbformat": 4,
 "nbformat_minor": 1
}
