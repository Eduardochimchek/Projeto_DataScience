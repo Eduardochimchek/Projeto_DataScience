{
 "cells": [
  {
   "cell_type": "markdown",
   "metadata": {},
   "source": [
    "Nome equipe:Josiane Rodrigues, João Augusto da Silva Borges, Gabriel Rosso, Eduardo Chimchek Jeronimo\n",
    "\n",
    "# Fase 2 - Entendimento dos Dados\n",
    "\n",
    "A fase de entendimento de dados começa com uma coleta inicial dos dados e segue com atividades que possibilitam ao autor ficar familiar com os dados, identificando problemas na qualidade dos dados, descobrindo primeiros insights dentro dos dados, e/ou detectando amostras pra formular hipóteses."
   ]
  },
  {
   "cell_type": "markdown",
   "metadata": {
    "pycharm": {
     "name": "#%% md\n"
    }
   },
   "source": [
    "## 2.1 Coletando Dados Iniciais\n",
    "\n",
    "### 2.1.1 Tarefa\n",
    "Adquirir os dados (ou os acessos aos datas) listados nos recursos do projeto. Essa coleta inicial inclui o carregamento dos dados, se estes forem necessários para o entendimento dos dados.\n",
    "\n",
    "### 2.1.1 Saída\n",
    "\n",
    "#### 2.1.1.1 Relatório inicial da Coleta dos Dados\n",
    "\n",
    "--Os dados coletados estavam divididos em dois csvs com as colunas estavam em inglês, com colunas faltando informações (NaN) e com informações iguais. Os dois arquivos o main e o All fields, e ambos têm a mesma quantidade de registros, e registros são iguais o que muda são a quantidade de colunas, o all fields grande parte das colunas estão vazias ou NaN. Então foi unido os dois, limpamos e ajustamos os nomes deles. Seguem colunas classificadas inicialmente: 'Key', 'Parent', 'Summary', 'Assignee', 'Designer', 'Devs', 'Issue Type', 'Status', 'Story point estimate', 'Created', 'Resolved', 'Creator', 'DesignEndTaskDate', 'DesignStartTaskDate', 'EndResolution', 'EndSubTaskDate', 'EpicLink', 'EpicLink.Name', 'Reporter', 'RequirementsEndTaskDate', 'RequirementsStartTaskDate', 'Start date', 'StartResolution', 'Sprint', 'StartSubTaskDate', 'Status Transition', 'Time tracking'."
   ]
  },
  {
   "cell_type": "markdown",
   "metadata": {
    "pycharm": {
     "name": "#%% md\n"
    }
   },
   "source": [
    "## 2.2 Descrição dos Dados\n",
    "\n",
    "### 2.2.1 Tarefa\n",
    "\n",
    "Examinar as propriedades de forma preliminar dos dados adquiridos e relatar isso nos resultados.\n",
    "\n",
    "### 2.2.2 Saída\n",
    "\n",
    "#### 2.2.2.1 Relatório de Descrição dos Dados\n",
    "\n",
    "--Ao examinar os dados foram obtidos os seguintes resultados:\n",
    "\n",
    "'Key' = Id da atividade.\n",
    "'Parent' = Id do cliente.\n",
    "'Summary' = Descrição da atividade.\n",
    "'Assignee' = Pessoa responsável pela atividade.\n",
    "'Designer' = Pessoa responsável pelo design da atividade.\n",
    "'Devs' = Pessoas responsáveis pelo desenvolvimento da atividade.\n",
    "'Issue Type' = Tipo da atividade.\n",
    "'Status' = Situação da atividade.\n",
    "'Story point estimate' = Valores de 0,25 a 5 desconhecidos.\n",
    "'Created' = Data do registro da atividade.\n",
    "'Resolved' = Data do fechamento da atividade.\n",
    "'Creator' = Pessoa responsável pelo registro da atividade.\n",
    "'DesignEndTaskDate' = Data de término da parte do designer.\n",
    "'DesignStartTaskDate' = Data de início da parte do designer.\n",
    "'EndResolution' = Fim da resolução da atividade.\n",
    "'EndSubTaskDate' = Coluna com valores vazios.\n",
    "'Epic Link' = Coluna com valores vazios.\n",
    "'Epic Link.Name' = Coluna com valores vazios.\n",
    "'Reporter' = Pessoa que reportou o bug/problema.\n",
    "'RequirementsEndTaskDate' = Coluna com valores vazios.\n",
    "'RequirementsStartTaskDate' = Coluna com valores vazios.\n",
    "'Start date' = Coluna com valores vazios.\n",
    "'StartResolution' = Início da resolução da atividade.\n",
    "'Sprint' = Quais sprints a atividade participou.\n",
    "'StartSubTaskDate' = Coluna com valores vazios.\n",
    "'Status Transition' = Transição de status da atividade.\n",
    "'Time tracking' = Coluna com valores vazios."
   ]
  },
  {
   "cell_type": "markdown",
   "metadata": {},
   "source": [
    "## 2.3 Exploração dos Dados\n",
    "\n",
    "### 2.3.1 Tarefa\n",
    "\n",
    "Essa atividade tem por objetivo questões de mineração de dados utilizando queries, visualizações e tecnicas de relatórios. Isso inclui a distribuição dos atributos chaves (como por exemplo, a variável alvo de uma tarefa de predição), relacionamentos entre pares ou pequenos números de atributos, resultados de agregações simples, propriedades de amostras significantes, e análises estatísticas simples. \n",
    "\n",
    "### 2.3.2 Saída\n",
    "\n",
    "--Como foi proposto ao início do projeto uma previsão sobre os tempos de produção dos aplicativos, incialmente as colunas mais importantes foram, DesignEndTaskDate, DesignStartTaskDate, EndResolutioz, StartResolution, onde expressam datas e tempos de entrada e conclusão da task, além da data de entrada da task no sistema. Outro ponto também indispensável é a coluna Assignee, onde mostra o responsável pela atribuição da task para os desenvolvedores. A coluna Key é o código do processo das tarefas a coluna Parent é responsável pelo código do cliente.\n",
    "\tAinda há as colunas onde podem ser importantes como Devs, onde mostram os nomes dos devs, Issue Type que é o tipo de atividade e Sprint onde mostra as etapas que a tarefa passou.\n",
    "    Possivelmente poderemos também remover ou adicionar colunas em nosso projeto.\n"
   ]
  },
  {
   "cell_type": "markdown",
   "metadata": {},
   "source": [
    "## 2.4 Verificando a Qualidade dos Dados\n",
    "\n",
    "### 2.4.1 Tarefa\n",
    "\n",
    "Examinar a qualidade dos dados, respondendo questões como: Os dados estão completos (cobre todos os requisitos solicitados)? Está correto, ou contêm erros e, se tiverem erros, quão comum esses erros são?\n",
    "\n",
    "### 2.4.2 Saída\n",
    "\n",
    "#### 2.4.2.1 Relatório de Exploração dos Dados\n",
    "\n",
    "--Examinando os dados, validamos que algumas colunas constam vazias, estas que estão vazias provavelmente não irão prejudicar no desenvolvimento do projeto, as colunas que conseguimos possui valores certos, não possui erros após analisar as colunas úteis, segue abaixo as seguintes colunas que iremos utilizar com valores corretos:\n",
    "\n",
    "'Key','Parent','Assignee','Designer','Devs','Issue Type','DesignEndTaskDate','DesignStartTaskDate','EndResolution','StartResolution','Sprint'."
   ]
  }
 ],
 "metadata": {
  "kernelspec": {
   "display_name": "Python 3 (ipykernel)",
   "language": "python",
   "name": "python3"
  },
  "language_info": {
   "codemirror_mode": {
    "name": "ipython",
    "version": 3
   },
   "file_extension": ".py",
   "mimetype": "text/x-python",
   "name": "python",
   "nbconvert_exporter": "python",
   "pygments_lexer": "ipython3",
   "version": "3.9.13"
  }
 },
 "nbformat": 4,
 "nbformat_minor": 1
}
