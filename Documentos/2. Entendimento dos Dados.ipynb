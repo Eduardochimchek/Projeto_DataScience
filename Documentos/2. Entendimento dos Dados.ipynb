{
 "cells": [
  {
   "cell_type": "markdown",
   "metadata": {},
   "source": [
    "# Fase 2 - Entendimento dos Dados\n",
    "\n",
    "A fase de entendimento de dados começa com uma coleta inicial dos dados e segue com atividades que possibilitam ao autor ficar familiar com os dados, identificando problemas na qualidade dos dados, descobrindo primeiros insights dentro dos dados, e/ou detectando amostras pra formular hipóteses."
   ]
  },
  {
   "cell_type": "markdown",
   "metadata": {
    "pycharm": {
     "name": "#%% md\n"
    }
   },
   "source": [
    "## 2.1 Coletando Dados Iniciais\n",
    "\n",
    "### 2.1.1 Tarefa\n",
    "Adquirir os dados (ou os acessos aos datas) listados nos recursos do projeto. Essa coleta inicial inclui o carregamento dos dados, se estes forem necessários para o entendimento dos dados.\n",
    "\n",
    "### 2.1.1 Saída\n",
    "\n",
    "#### 2.1.1.1 Relatório inicial da Coleta dos Dados\n",
    "\n",
    "--"
   ]
  },
  {
   "cell_type": "markdown",
   "metadata": {
    "pycharm": {
     "name": "#%% md\n"
    }
   },
   "source": [
    "## 2.2 Descrição dos Dados\n",
    "\n",
    "### 2.2.1 Tarefa\n",
    "\n",
    "Examinar as propriedades de forma preliminar dos dados adquiridos e relatar isso nos resultados.\n",
    "\n",
    "### 2.2.2 Saída\n",
    "\n",
    "#### 2.2.2.1 Relatório de Descrição dos Dados\n",
    "\n",
    "--"
   ]
  },
  {
   "cell_type": "markdown",
   "metadata": {},
   "source": [
    "## 2.3 Exploração dos Dados\n",
    "\n",
    "### 2.3.1 Tarefa\n",
    "\n",
    "Essa atividade tem por objetivo questões de mineração de dados utilizando queries, visualizações e tecnicas de relatórios. Isso inclui a distribuição dos atributos chaves (como por exemplo, a variável alvo de uma tarefa de predição), relacionamentos entre pares ou pequenos números de atributos, resultados de agregações simples, propriedades de amostras significantes, e análises estatísticas simples. \n",
    "\n",
    "### 2.3.2 Saída\n",
    "\n",
    "--"
   ]
  },
  {
   "attachments": {},
   "cell_type": "markdown",
   "metadata": {},
   "source": [
    "## 2.4 Verificando a Qualidade dos Dados\n",
    "\n",
    "### 2.4.1 Tarefa\n",
    "\n",
    "Examinar a qualidade dos dados, respondendo questões como: Os dados estão completos (cobre todos os requisitos solicitados)? Está correto, ou contêm erros e, se tiverem erros, quão comum esses erros são?\n",
    "\n",
    "Examinando os dados, validamos que algumas colunas constam vazias, estas que estão vazias provavelmente não irão prejudicar no desenvolvimento do projeto, as colunas que conseguimos possui valores certos, não possui erros após analisar as colunas úteis, segue abaixo as seguintes colunas que iremos utilizar com valores corretos:\n",
    "\n",
    "'Key','Parent','Assignee','Designer','Devs','Issue Type','DesignEndTaskDate','DesignStartTaskDate','EndResolution','StartResolution','Sprint'.\n",
    "\n",
    "### 2.4.2 Saída\n",
    "\n",
    "#### 2.4.2.1 Relatório de Exploração dos Dados\n",
    "\n",
    "--"
   ]
  }
 ],
 "metadata": {
  "kernelspec": {
   "display_name": "Python 3",
   "language": "python",
   "name": "python3"
  },
  "language_info": {
   "codemirror_mode": {
    "name": "ipython",
    "version": 3
   },
   "file_extension": ".py",
   "mimetype": "text/x-python",
   "name": "python",
   "nbconvert_exporter": "python",
   "pygments_lexer": "ipython3",
   "version": "3.11.0 (main, Oct 24 2022, 18:26:48) [MSC v.1933 64 bit (AMD64)]"
  },
  "vscode": {
   "interpreter": {
    "hash": "c261aea317cc0286b3b3261fbba9abdec21eaa57589985bb7a274bf54d6cc0a7"
   }
  }
 },
 "nbformat": 4,
 "nbformat_minor": 1
}
