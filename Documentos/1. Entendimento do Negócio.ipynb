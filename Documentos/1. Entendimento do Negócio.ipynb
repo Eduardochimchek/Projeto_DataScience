{
 "cells": [
  {
   "cell_type": "markdown",
   "metadata": {},
   "source": [
    "Nome equipe:Josiane Rodrigues, João Augusto da Silva Borges, Gabriel Rosso, Eduardo Chimchek Jeronimo\n",
    "\n",
    "# Fase 1 - Entendimento do Negócio\n",
    "\n",
    "Esta fase inicial foca no entendimento dos objetivos do projetos e requisitos de uma perspectiva de negócio, e então converter isso na definição do problema e de um plano preliminar."
   ]
  },
  {
   "cell_type": "markdown",
   "metadata": {
    "pycharm": {
     "name": "#%% md\n"
    }
   },
   "source": [
    "## 1.1 Determinar os Objetivos do Negócio\n",
    "\n",
    "### 1.1.1 Tarefa\n",
    "\n",
    "O primeiro objetivo da análise dos dados é entender completamente, de uma visão de negócio, o que realmente o nosso cliente quer alcançar.\n",
    "\n",
    "\n",
    "### 1.1.2 Resultado\n",
    "\n",
    "#### 1.1.2.1 Informações Internas\n",
    "\n",
    "--A Ada Software House é uma empresa focada em desenvolvimento de aplicativos, design de interfaces além de fazer integrações de aplicativos e realizar consultorias para empresas clientes, melhorando sua infraestrutura digital.  \n",
    "\n",
    "#### 1.1.2.2 Objetivo de Negócio\n",
    "\n",
    "--Desenvolvimento de softwares com qualidade, além de criar interfaces intuitivas para melhor experiência, realizar integrações de seus softwares em empresas clientes e realizar consultorias para identificar o que se pode melhorar no ambiente digital de seus clientes parceiros.\n",
    "\n",
    "#### 1.1.2.3 Critérios de Sucesso\n",
    "\n",
    "--Para o sucesso do negócio é necessário um planejamento detalhado dos processos de criação dos aplicativos, além das interfaces. Por este fator, foi repassado ao grupo a tarefa de pegar os dados disponibilizados pela empresa e fazer um estudo de qualidade de desenvolvimento, mostrando o tempo médio de produção e se pode ser melhorado."
   ]
  },
  {
   "cell_type": "markdown",
   "metadata": {},
   "source": [
    "## 1.2 Avaliando a Situação\n",
    "\n",
    "### 1.2.1 Tarefa\n",
    "\n",
    "Essa tarefa envolve de forma mais detalhada a descoberta de fatos sobre todos os recursos, condições, inferências e outros fatores que devem ser considerados para determinar o objetivo da análise dos dados e do plano do projeto.\n",
    "\n",
    "\n",
    "### 1.2.2 Saída\n",
    "\n",
    "#### 1.2.2.1 Inventário dos Recursos\n",
    "\n",
    "--Possui informações detalhadas de projetos desenvolvidos por eles como status do projeto , tempo estimado, quem está desenvolvendo, motivo do projeto, descrição do projeto, prioridade entre outros que serão analisados posteriormente.\n",
    "\n",
    "#### 1.2.2.2 Requisitos, Inferências e Condições\n",
    "\n",
    "--Condição do projeto é preocupante, grande parte das colunas dos dados entregue estão dentro de outras colunas, pois é um json, e estimando em 60% de colunas estão com valores vazios ou não possui utilidade para este projeto.\n",
    "\n",
    "#### 1.2.2.3 Riscos e Contingências\n",
    "\n",
    "--A princípio um dos principais riscos são os dados entregues, pois ele possui uma grande quantidade de dados e pode ocorrer que ao modificar para uma tabela e tratá-los, não haver os dados necessários para a realização do projeto. Outro ponto também é a quantidade de dados desnecessários. Para corrigir isso foi entrado em contato com os fornecedores dos dados e espera-se um novo arquivo mais organizado.\n",
    "\n",
    "#### 1.2.2.4 Terminologia\n",
    "\n",
    "--Json-Notação de Objetos JavaScript, é um formato de arquivo onde se encontra os dados fornecidos.\n",
    "Jira- é um software que monitora projetos e atividades.\n",
    "\n",
    "#### 1.2.2.5 Custos e Benefícios\n",
    "\n",
    "--Custos:\n",
    "\n",
    "Este projeto tera um custo de tempo muito maior do que o esperado, pois, com os dados em formato de json, precisamos manipular todo ele para poder ficar um dataframe limpo e utilizavel;\n",
    "\n",
    "Benefícios:\n",
    "\n",
    "Iremos adquirir mais conhecimento em novos scripts que iram auxiliar na construção do dataSet do projeto, pois, veremos como manipular todo um json dentro do python;\n",
    "Aprender mais sobre a empresa;\n",
    "Aplicar metodologias ensinadas pelo professor em um projeto;\n",
    "Desenvolvimento pessoal como desenvolver de um projeto para um \"cliente\";"
   ]
  },
  {
   "cell_type": "markdown",
   "metadata": {},
   "source": [
    "## 1.3 Determinar o Objetivo dos Modelos\n",
    "\n",
    "### 1.3.1 Tarefa\n",
    "\n",
    "Um alvo de negócio determina o objetivo na terminologia de negócio. Um alvo dos modelos determina os objetivos nos termos técnicos.\n",
    "\n",
    "### 1.3.2 Saída\n",
    "\n",
    "#### 1.3.2.1 Objetivo\n",
    "\n",
    "--Como o foco da empresa em questão é o desenvolvimento de softwares foi passada a tarefa de verificar o estado de produção, calculando o tempo de produção dos softwares, verificando cada etapa, seu tempo ocioso e como pode ser melhorado a execução dos projetos. Com esses pontos explorados a empresa pode adotar uma política mais adequada diminuído o tem ocioso dos projetos trabalhados.\n",
    "\n",
    "#### 1.3.2.2 Critério de Sucesso\n",
    "\n",
    "--1. Cálculo do Tempo de Produção:\n",
    "\n",
    "   O sistema deve ser capaz de calcular o tempo de produção dos softwares com precisão.\n",
    "    \n",
    "2.Verificação de Etapas do Projeto:\n",
    "  \n",
    "  O sistema deve identificar todas as etapas do projeto de desenvolvimento dos softwares.\n",
    "  \n",
    "3.Detecção de Tempo Ocioso:\n",
    "\n",
    "  O sistema deve ser capaz de identificar e registrar períodos de tempo ocioso.\n",
    "  Os períodos de tempo ocioso devem ser analisados em relação às etapas do projeto.\n",
    "  O projeto deve incluir a análise das causas do tempo ocioso identificado.\n",
    "  \n",
    "4.Melhorias na Execução de Projetos:\n",
    "\n",
    "   Com base na análise do tempo de produção, etapas e tempo ocioso, o projeto deve fornecer recomendações específicas para melhorar a execução de projetos futuros.\n",
    "   \n",
    "5.Redução do Tempo de Produção:\n",
    "\n",
    "  Outra melhoria tangível pode ser a redução do tempo de produção médio dos softwares.\n",
    "  A medida do sucesso pode ser a comparação do tempo de produção antes e depois da implementação das melhorias.\n"
   ]
  },
  {
   "cell_type": "markdown",
   "metadata": {},
   "source": [
    "## 1.4 Produzindo um Plano de Negócio\n",
    "\n",
    "### 1.4.1 Tarefa\n",
    "\n",
    "Descrever o plano pretendido para a atingir os objetivos dos modelos e consequentemente os objetivos de negócio\n",
    "\n",
    "### 1.4.2 Saída\n",
    "\n",
    "#### 1.4.2.1 Plano de Projeto\n",
    "\n",
    "--Primeiramente vamos interpretar os dados e o que podemos pegar de informações uteis para o objetivo em questão. Segundamente vamos organizar os dados em uma tabela onde poderemos ver suas informações de maneira clara. Após esse processo iremos remover todos os dados que não são de interesses do projeto.  Com essas etapas concluídas, vamos utilizar os métodos identificados em sala de aula para prever o tempo de trabalho gasto na produção do aplicativo. Finalizando o projeto teremos uma reposta se concluímos com êxito ou não a tarefa e então publicar o resultado.\n",
    "\n",
    "#### 1.4.2.2 Avaliação Inicial de Técnicas e Ferramentas\n",
    "\n",
    "--Vai ser utilizado a metodologia Crisp-DM, onde o projeto vai ser dividido em 6 etapas de produção, além de utilizar técnicas de previsões aprendidas em sala de aula e a utilização de ferramentas para organizar, interpretar e manipular os dados em questão."
   ]
  }
 ],
 "metadata": {
  "kernelspec": {
   "display_name": "Python 3 (ipykernel)",
   "language": "python",
   "name": "python3"
  },
  "language_info": {
   "codemirror_mode": {
    "name": "ipython",
    "version": 3
   },
   "file_extension": ".py",
   "mimetype": "text/x-python",
   "name": "python",
   "nbconvert_exporter": "python",
   "pygments_lexer": "ipython3",
   "version": "3.9.13"
  }
 },
 "nbformat": 4,
 "nbformat_minor": 1
}
